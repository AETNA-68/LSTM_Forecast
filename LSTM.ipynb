{
 "cells": [
  {
   "cell_type": "code",
   "execution_count": 1,
   "metadata": {},
   "outputs": [],
   "source": [
    "import pandas as pd\n",
    "import numpy as np\n",
    "import torch\n"
   ]
  },
  {
   "cell_type": "code",
   "execution_count": 2,
   "metadata": {},
   "outputs": [],
   "source": [
    "df= pd.read_csv('../Downloads/apple.csv',sep=',',encoding='utf-8')"
   ]
  },
  {
   "cell_type": "code",
   "execution_count": 3,
   "metadata": {},
   "outputs": [
    {
     "data": {
      "text/html": [
       "<div>\n",
       "<style scoped>\n",
       "    .dataframe tbody tr th:only-of-type {\n",
       "        vertical-align: middle;\n",
       "    }\n",
       "\n",
       "    .dataframe tbody tr th {\n",
       "        vertical-align: top;\n",
       "    }\n",
       "\n",
       "    .dataframe thead th {\n",
       "        text-align: right;\n",
       "    }\n",
       "</style>\n",
       "<table border=\"1\" class=\"dataframe\">\n",
       "  <thead>\n",
       "    <tr style=\"text-align: right;\">\n",
       "      <th></th>\n",
       "      <th>Date</th>\n",
       "      <th>Close/Last</th>\n",
       "      <th>Volume</th>\n",
       "      <th>Open</th>\n",
       "      <th>High</th>\n",
       "      <th>Low</th>\n",
       "    </tr>\n",
       "  </thead>\n",
       "  <tbody>\n",
       "    <tr>\n",
       "      <th>0</th>\n",
       "      <td>05/29/2024</td>\n",
       "      <td>$190.29</td>\n",
       "      <td>53068020</td>\n",
       "      <td>$189.61</td>\n",
       "      <td>$192.247</td>\n",
       "      <td>$189.51</td>\n",
       "    </tr>\n",
       "    <tr>\n",
       "      <th>1</th>\n",
       "      <td>05/28/2024</td>\n",
       "      <td>$189.99</td>\n",
       "      <td>52280050</td>\n",
       "      <td>$191.51</td>\n",
       "      <td>$193.00</td>\n",
       "      <td>$189.10</td>\n",
       "    </tr>\n",
       "    <tr>\n",
       "      <th>2</th>\n",
       "      <td>05/24/2024</td>\n",
       "      <td>$189.98</td>\n",
       "      <td>36326980</td>\n",
       "      <td>$188.82</td>\n",
       "      <td>$190.58</td>\n",
       "      <td>$188.0404</td>\n",
       "    </tr>\n",
       "    <tr>\n",
       "      <th>3</th>\n",
       "      <td>05/23/2024</td>\n",
       "      <td>$186.88</td>\n",
       "      <td>51005920</td>\n",
       "      <td>$190.98</td>\n",
       "      <td>$191.00</td>\n",
       "      <td>$186.625</td>\n",
       "    </tr>\n",
       "    <tr>\n",
       "      <th>4</th>\n",
       "      <td>05/22/2024</td>\n",
       "      <td>$190.90</td>\n",
       "      <td>34648550</td>\n",
       "      <td>$192.265</td>\n",
       "      <td>$192.8231</td>\n",
       "      <td>$190.27</td>\n",
       "    </tr>\n",
       "  </tbody>\n",
       "</table>\n",
       "</div>"
      ],
      "text/plain": [
       "         Date Close/Last    Volume      Open       High        Low\n",
       "0  05/29/2024    $190.29  53068020   $189.61   $192.247    $189.51\n",
       "1  05/28/2024    $189.99  52280050   $191.51    $193.00    $189.10\n",
       "2  05/24/2024    $189.98  36326980   $188.82    $190.58  $188.0404\n",
       "3  05/23/2024    $186.88  51005920   $190.98    $191.00   $186.625\n",
       "4  05/22/2024    $190.90  34648550  $192.265  $192.8231    $190.27"
      ]
     },
     "execution_count": 3,
     "metadata": {},
     "output_type": "execute_result"
    }
   ],
   "source": [
    "df.head()"
   ]
  },
  {
   "cell_type": "code",
   "execution_count": 4,
   "metadata": {},
   "outputs": [],
   "source": [
    "df= df[['Date','Close/Last']]"
   ]
  },
  {
   "cell_type": "code",
   "execution_count": 5,
   "metadata": {},
   "outputs": [
    {
     "name": "stdout",
     "output_type": "stream",
     "text": [
      "<class 'pandas.core.frame.DataFrame'>\n",
      "RangeIndex: 2517 entries, 0 to 2516\n",
      "Data columns (total 2 columns):\n",
      " #   Column      Non-Null Count  Dtype  \n",
      "---  ------      --------------  -----  \n",
      " 0   Date        2517 non-null   object \n",
      " 1   Close/Last  2517 non-null   float64\n",
      "dtypes: float64(1), object(1)\n",
      "memory usage: 39.5+ KB\n"
     ]
    }
   ],
   "source": [
    "df['Close/Last']=df['Close/Last'].str.replace('$','',regex=False).astype(float)\n",
    "df.info()"
   ]
  },
  {
   "cell_type": "code",
   "execution_count": 6,
   "metadata": {},
   "outputs": [],
   "source": [
    "df['Close/Last']= df['Close/Last']"
   ]
  },
  {
   "cell_type": "code",
   "execution_count": 7,
   "metadata": {},
   "outputs": [],
   "source": [
    "df['Date']= pd.to_datetime(df['Date'])"
   ]
  },
  {
   "cell_type": "code",
   "execution_count": 8,
   "metadata": {},
   "outputs": [],
   "source": [
    "df.sort_values(by='Date',inplace=True)"
   ]
  },
  {
   "cell_type": "code",
   "execution_count": 9,
   "metadata": {},
   "outputs": [],
   "source": [
    "df.reset_index(inplace=True)"
   ]
  },
  {
   "cell_type": "code",
   "execution_count": 10,
   "metadata": {},
   "outputs": [],
   "source": [
    "df.drop(columns='index',inplace=True)"
   ]
  },
  {
   "cell_type": "code",
   "execution_count": 11,
   "metadata": {},
   "outputs": [],
   "source": [
    "df.set_index('Date',inplace=True)"
   ]
  },
  {
   "cell_type": "code",
   "execution_count": 12,
   "metadata": {},
   "outputs": [
    {
     "data": {
      "text/html": [
       "<div>\n",
       "<style scoped>\n",
       "    .dataframe tbody tr th:only-of-type {\n",
       "        vertical-align: middle;\n",
       "    }\n",
       "\n",
       "    .dataframe tbody tr th {\n",
       "        vertical-align: top;\n",
       "    }\n",
       "\n",
       "    .dataframe thead th {\n",
       "        text-align: right;\n",
       "    }\n",
       "</style>\n",
       "<table border=\"1\" class=\"dataframe\">\n",
       "  <thead>\n",
       "    <tr style=\"text-align: right;\">\n",
       "      <th></th>\n",
       "      <th>Close/Last</th>\n",
       "    </tr>\n",
       "    <tr>\n",
       "      <th>Date</th>\n",
       "      <th></th>\n",
       "    </tr>\n",
       "  </thead>\n",
       "  <tbody>\n",
       "    <tr>\n",
       "      <th>2014-05-30</th>\n",
       "      <td>22.6072</td>\n",
       "    </tr>\n",
       "    <tr>\n",
       "      <th>2014-06-02</th>\n",
       "      <td>22.4518</td>\n",
       "    </tr>\n",
       "    <tr>\n",
       "      <th>2014-06-03</th>\n",
       "      <td>22.7693</td>\n",
       "    </tr>\n",
       "    <tr>\n",
       "      <th>2014-06-04</th>\n",
       "      <td>23.0293</td>\n",
       "    </tr>\n",
       "    <tr>\n",
       "      <th>2014-06-05</th>\n",
       "      <td>23.1197</td>\n",
       "    </tr>\n",
       "    <tr>\n",
       "      <th>2014-06-06</th>\n",
       "      <td>23.0561</td>\n",
       "    </tr>\n",
       "    <tr>\n",
       "      <th>2014-06-09</th>\n",
       "      <td>23.4250</td>\n",
       "    </tr>\n",
       "    <tr>\n",
       "      <th>2014-06-10</th>\n",
       "      <td>23.5625</td>\n",
       "    </tr>\n",
       "    <tr>\n",
       "      <th>2014-06-11</th>\n",
       "      <td>23.4650</td>\n",
       "    </tr>\n",
       "    <tr>\n",
       "      <th>2014-06-12</th>\n",
       "      <td>23.0725</td>\n",
       "    </tr>\n",
       "    <tr>\n",
       "      <th>2014-06-13</th>\n",
       "      <td>22.8200</td>\n",
       "    </tr>\n",
       "    <tr>\n",
       "      <th>2014-06-16</th>\n",
       "      <td>23.0500</td>\n",
       "    </tr>\n",
       "    <tr>\n",
       "      <th>2014-06-17</th>\n",
       "      <td>23.0200</td>\n",
       "    </tr>\n",
       "    <tr>\n",
       "      <th>2014-06-18</th>\n",
       "      <td>23.0450</td>\n",
       "    </tr>\n",
       "    <tr>\n",
       "      <th>2014-06-19</th>\n",
       "      <td>22.9650</td>\n",
       "    </tr>\n",
       "    <tr>\n",
       "      <th>2014-06-20</th>\n",
       "      <td>22.7275</td>\n",
       "    </tr>\n",
       "    <tr>\n",
       "      <th>2014-06-23</th>\n",
       "      <td>22.7075</td>\n",
       "    </tr>\n",
       "    <tr>\n",
       "      <th>2014-06-24</th>\n",
       "      <td>22.5700</td>\n",
       "    </tr>\n",
       "    <tr>\n",
       "      <th>2014-06-25</th>\n",
       "      <td>22.5900</td>\n",
       "    </tr>\n",
       "    <tr>\n",
       "      <th>2014-06-26</th>\n",
       "      <td>22.7250</td>\n",
       "    </tr>\n",
       "  </tbody>\n",
       "</table>\n",
       "</div>"
      ],
      "text/plain": [
       "            Close/Last\n",
       "Date                  \n",
       "2014-05-30     22.6072\n",
       "2014-06-02     22.4518\n",
       "2014-06-03     22.7693\n",
       "2014-06-04     23.0293\n",
       "2014-06-05     23.1197\n",
       "2014-06-06     23.0561\n",
       "2014-06-09     23.4250\n",
       "2014-06-10     23.5625\n",
       "2014-06-11     23.4650\n",
       "2014-06-12     23.0725\n",
       "2014-06-13     22.8200\n",
       "2014-06-16     23.0500\n",
       "2014-06-17     23.0200\n",
       "2014-06-18     23.0450\n",
       "2014-06-19     22.9650\n",
       "2014-06-20     22.7275\n",
       "2014-06-23     22.7075\n",
       "2014-06-24     22.5700\n",
       "2014-06-25     22.5900\n",
       "2014-06-26     22.7250"
      ]
     },
     "execution_count": 12,
     "metadata": {},
     "output_type": "execute_result"
    }
   ],
   "source": [
    "df.head(20)"
   ]
  },
  {
   "cell_type": "code",
   "execution_count": 13,
   "metadata": {},
   "outputs": [],
   "source": [
    "def transform_df(df,n_steps):\n",
    "    \n",
    "    for i in range(1,n_steps+1):\n",
    "        df[f'Close (t-{i})']= df['Close/Last'].shift(i)\n",
    "        \n",
    "    df.dropna(inplace=True)\n",
    "    return df\n",
    "     "
   ]
  },
  {
   "cell_type": "code",
   "execution_count": 14,
   "metadata": {},
   "outputs": [],
   "source": [
    "data= transform_df(df,6)"
   ]
  },
  {
   "cell_type": "code",
   "execution_count": 15,
   "metadata": {},
   "outputs": [
    {
     "data": {
      "text/html": [
       "<div>\n",
       "<style scoped>\n",
       "    .dataframe tbody tr th:only-of-type {\n",
       "        vertical-align: middle;\n",
       "    }\n",
       "\n",
       "    .dataframe tbody tr th {\n",
       "        vertical-align: top;\n",
       "    }\n",
       "\n",
       "    .dataframe thead th {\n",
       "        text-align: right;\n",
       "    }\n",
       "</style>\n",
       "<table border=\"1\" class=\"dataframe\">\n",
       "  <thead>\n",
       "    <tr style=\"text-align: right;\">\n",
       "      <th></th>\n",
       "      <th>Close/Last</th>\n",
       "      <th>Close (t-1)</th>\n",
       "      <th>Close (t-2)</th>\n",
       "      <th>Close (t-3)</th>\n",
       "      <th>Close (t-4)</th>\n",
       "      <th>Close (t-5)</th>\n",
       "      <th>Close (t-6)</th>\n",
       "    </tr>\n",
       "    <tr>\n",
       "      <th>Date</th>\n",
       "      <th></th>\n",
       "      <th></th>\n",
       "      <th></th>\n",
       "      <th></th>\n",
       "      <th></th>\n",
       "      <th></th>\n",
       "      <th></th>\n",
       "    </tr>\n",
       "  </thead>\n",
       "  <tbody>\n",
       "    <tr>\n",
       "      <th>2014-06-09</th>\n",
       "      <td>23.4250</td>\n",
       "      <td>23.0561</td>\n",
       "      <td>23.1197</td>\n",
       "      <td>23.0293</td>\n",
       "      <td>22.7693</td>\n",
       "      <td>22.4518</td>\n",
       "      <td>22.6072</td>\n",
       "    </tr>\n",
       "    <tr>\n",
       "      <th>2014-06-10</th>\n",
       "      <td>23.5625</td>\n",
       "      <td>23.4250</td>\n",
       "      <td>23.0561</td>\n",
       "      <td>23.1197</td>\n",
       "      <td>23.0293</td>\n",
       "      <td>22.7693</td>\n",
       "      <td>22.4518</td>\n",
       "    </tr>\n",
       "    <tr>\n",
       "      <th>2014-06-11</th>\n",
       "      <td>23.4650</td>\n",
       "      <td>23.5625</td>\n",
       "      <td>23.4250</td>\n",
       "      <td>23.0561</td>\n",
       "      <td>23.1197</td>\n",
       "      <td>23.0293</td>\n",
       "      <td>22.7693</td>\n",
       "    </tr>\n",
       "    <tr>\n",
       "      <th>2014-06-12</th>\n",
       "      <td>23.0725</td>\n",
       "      <td>23.4650</td>\n",
       "      <td>23.5625</td>\n",
       "      <td>23.4250</td>\n",
       "      <td>23.0561</td>\n",
       "      <td>23.1197</td>\n",
       "      <td>23.0293</td>\n",
       "    </tr>\n",
       "    <tr>\n",
       "      <th>2014-06-13</th>\n",
       "      <td>22.8200</td>\n",
       "      <td>23.0725</td>\n",
       "      <td>23.4650</td>\n",
       "      <td>23.5625</td>\n",
       "      <td>23.4250</td>\n",
       "      <td>23.0561</td>\n",
       "      <td>23.1197</td>\n",
       "    </tr>\n",
       "  </tbody>\n",
       "</table>\n",
       "</div>"
      ],
      "text/plain": [
       "            Close/Last  Close (t-1)  Close (t-2)  Close (t-3)  Close (t-4)  \\\n",
       "Date                                                                         \n",
       "2014-06-09     23.4250      23.0561      23.1197      23.0293      22.7693   \n",
       "2014-06-10     23.5625      23.4250      23.0561      23.1197      23.0293   \n",
       "2014-06-11     23.4650      23.5625      23.4250      23.0561      23.1197   \n",
       "2014-06-12     23.0725      23.4650      23.5625      23.4250      23.0561   \n",
       "2014-06-13     22.8200      23.0725      23.4650      23.5625      23.4250   \n",
       "\n",
       "            Close (t-5)  Close (t-6)  \n",
       "Date                                  \n",
       "2014-06-09      22.4518      22.6072  \n",
       "2014-06-10      22.7693      22.4518  \n",
       "2014-06-11      23.0293      22.7693  \n",
       "2014-06-12      23.1197      23.0293  \n",
       "2014-06-13      23.0561      23.1197  "
      ]
     },
     "execution_count": 15,
     "metadata": {},
     "output_type": "execute_result"
    }
   ],
   "source": [
    "data.head()"
   ]
  },
  {
   "cell_type": "code",
   "execution_count": 16,
   "metadata": {},
   "outputs": [],
   "source": [
    "df=df.asfreq('D')"
   ]
  },
  {
   "cell_type": "code",
   "execution_count": 17,
   "metadata": {},
   "outputs": [],
   "source": [
    "df.ffill(inplace=True)"
   ]
  },
  {
   "cell_type": "code",
   "execution_count": 18,
   "metadata": {},
   "outputs": [
    {
     "name": "stdout",
     "output_type": "stream",
     "text": [
      "D\n"
     ]
    }
   ],
   "source": [
    "freq= pd.infer_freq(df.index)\n",
    "print(freq)"
   ]
  },
  {
   "cell_type": "code",
   "execution_count": 19,
   "metadata": {},
   "outputs": [
    {
     "data": {
      "text/html": [
       "<div>\n",
       "<style scoped>\n",
       "    .dataframe tbody tr th:only-of-type {\n",
       "        vertical-align: middle;\n",
       "    }\n",
       "\n",
       "    .dataframe tbody tr th {\n",
       "        vertical-align: top;\n",
       "    }\n",
       "\n",
       "    .dataframe thead th {\n",
       "        text-align: right;\n",
       "    }\n",
       "</style>\n",
       "<table border=\"1\" class=\"dataframe\">\n",
       "  <thead>\n",
       "    <tr style=\"text-align: right;\">\n",
       "      <th></th>\n",
       "      <th>Close/Last</th>\n",
       "      <th>Close (t-1)</th>\n",
       "      <th>Close (t-2)</th>\n",
       "      <th>Close (t-3)</th>\n",
       "      <th>Close (t-4)</th>\n",
       "      <th>Close (t-5)</th>\n",
       "      <th>Close (t-6)</th>\n",
       "    </tr>\n",
       "    <tr>\n",
       "      <th>Date</th>\n",
       "      <th></th>\n",
       "      <th></th>\n",
       "      <th></th>\n",
       "      <th></th>\n",
       "      <th></th>\n",
       "      <th></th>\n",
       "      <th></th>\n",
       "    </tr>\n",
       "  </thead>\n",
       "  <tbody>\n",
       "    <tr>\n",
       "      <th>2014-06-09</th>\n",
       "      <td>23.4250</td>\n",
       "      <td>23.0561</td>\n",
       "      <td>23.1197</td>\n",
       "      <td>23.0293</td>\n",
       "      <td>22.7693</td>\n",
       "      <td>22.4518</td>\n",
       "      <td>22.6072</td>\n",
       "    </tr>\n",
       "    <tr>\n",
       "      <th>2014-06-10</th>\n",
       "      <td>23.5625</td>\n",
       "      <td>23.4250</td>\n",
       "      <td>23.0561</td>\n",
       "      <td>23.1197</td>\n",
       "      <td>23.0293</td>\n",
       "      <td>22.7693</td>\n",
       "      <td>22.4518</td>\n",
       "    </tr>\n",
       "    <tr>\n",
       "      <th>2014-06-11</th>\n",
       "      <td>23.4650</td>\n",
       "      <td>23.5625</td>\n",
       "      <td>23.4250</td>\n",
       "      <td>23.0561</td>\n",
       "      <td>23.1197</td>\n",
       "      <td>23.0293</td>\n",
       "      <td>22.7693</td>\n",
       "    </tr>\n",
       "    <tr>\n",
       "      <th>2014-06-12</th>\n",
       "      <td>23.0725</td>\n",
       "      <td>23.4650</td>\n",
       "      <td>23.5625</td>\n",
       "      <td>23.4250</td>\n",
       "      <td>23.0561</td>\n",
       "      <td>23.1197</td>\n",
       "      <td>23.0293</td>\n",
       "    </tr>\n",
       "    <tr>\n",
       "      <th>2014-06-13</th>\n",
       "      <td>22.8200</td>\n",
       "      <td>23.0725</td>\n",
       "      <td>23.4650</td>\n",
       "      <td>23.5625</td>\n",
       "      <td>23.4250</td>\n",
       "      <td>23.0561</td>\n",
       "      <td>23.1197</td>\n",
       "    </tr>\n",
       "    <tr>\n",
       "      <th>...</th>\n",
       "      <td>...</td>\n",
       "      <td>...</td>\n",
       "      <td>...</td>\n",
       "      <td>...</td>\n",
       "      <td>...</td>\n",
       "      <td>...</td>\n",
       "      <td>...</td>\n",
       "    </tr>\n",
       "    <tr>\n",
       "      <th>2024-05-25</th>\n",
       "      <td>189.9800</td>\n",
       "      <td>186.8800</td>\n",
       "      <td>190.9000</td>\n",
       "      <td>192.3500</td>\n",
       "      <td>191.0400</td>\n",
       "      <td>189.8700</td>\n",
       "      <td>189.8400</td>\n",
       "    </tr>\n",
       "    <tr>\n",
       "      <th>2024-05-26</th>\n",
       "      <td>189.9800</td>\n",
       "      <td>186.8800</td>\n",
       "      <td>190.9000</td>\n",
       "      <td>192.3500</td>\n",
       "      <td>191.0400</td>\n",
       "      <td>189.8700</td>\n",
       "      <td>189.8400</td>\n",
       "    </tr>\n",
       "    <tr>\n",
       "      <th>2024-05-27</th>\n",
       "      <td>189.9800</td>\n",
       "      <td>186.8800</td>\n",
       "      <td>190.9000</td>\n",
       "      <td>192.3500</td>\n",
       "      <td>191.0400</td>\n",
       "      <td>189.8700</td>\n",
       "      <td>189.8400</td>\n",
       "    </tr>\n",
       "    <tr>\n",
       "      <th>2024-05-28</th>\n",
       "      <td>189.9900</td>\n",
       "      <td>189.9800</td>\n",
       "      <td>186.8800</td>\n",
       "      <td>190.9000</td>\n",
       "      <td>192.3500</td>\n",
       "      <td>191.0400</td>\n",
       "      <td>189.8700</td>\n",
       "    </tr>\n",
       "    <tr>\n",
       "      <th>2024-05-29</th>\n",
       "      <td>190.2900</td>\n",
       "      <td>189.9900</td>\n",
       "      <td>189.9800</td>\n",
       "      <td>186.8800</td>\n",
       "      <td>190.9000</td>\n",
       "      <td>192.3500</td>\n",
       "      <td>191.0400</td>\n",
       "    </tr>\n",
       "  </tbody>\n",
       "</table>\n",
       "<p>3643 rows × 7 columns</p>\n",
       "</div>"
      ],
      "text/plain": [
       "            Close/Last  Close (t-1)  Close (t-2)  Close (t-3)  Close (t-4)  \\\n",
       "Date                                                                         \n",
       "2014-06-09     23.4250      23.0561      23.1197      23.0293      22.7693   \n",
       "2014-06-10     23.5625      23.4250      23.0561      23.1197      23.0293   \n",
       "2014-06-11     23.4650      23.5625      23.4250      23.0561      23.1197   \n",
       "2014-06-12     23.0725      23.4650      23.5625      23.4250      23.0561   \n",
       "2014-06-13     22.8200      23.0725      23.4650      23.5625      23.4250   \n",
       "...                ...          ...          ...          ...          ...   \n",
       "2024-05-25    189.9800     186.8800     190.9000     192.3500     191.0400   \n",
       "2024-05-26    189.9800     186.8800     190.9000     192.3500     191.0400   \n",
       "2024-05-27    189.9800     186.8800     190.9000     192.3500     191.0400   \n",
       "2024-05-28    189.9900     189.9800     186.8800     190.9000     192.3500   \n",
       "2024-05-29    190.2900     189.9900     189.9800     186.8800     190.9000   \n",
       "\n",
       "            Close (t-5)  Close (t-6)  \n",
       "Date                                  \n",
       "2014-06-09      22.4518      22.6072  \n",
       "2014-06-10      22.7693      22.4518  \n",
       "2014-06-11      23.0293      22.7693  \n",
       "2014-06-12      23.1197      23.0293  \n",
       "2014-06-13      23.0561      23.1197  \n",
       "...                 ...          ...  \n",
       "2024-05-25     189.8700     189.8400  \n",
       "2024-05-26     189.8700     189.8400  \n",
       "2024-05-27     189.8700     189.8400  \n",
       "2024-05-28     191.0400     189.8700  \n",
       "2024-05-29     192.3500     191.0400  \n",
       "\n",
       "[3643 rows x 7 columns]"
      ]
     },
     "execution_count": 19,
     "metadata": {},
     "output_type": "execute_result"
    }
   ],
   "source": [
    "df"
   ]
  },
  {
   "cell_type": "code",
   "execution_count": 23,
   "metadata": {},
   "outputs": [
    {
     "name": "stdout",
     "output_type": "stream",
     "text": [
      "Note: you may need to restart the kernel to use updated packages.\n"
     ]
    }
   ],
   "source": [
    "%pip install scikit-learn -q"
   ]
  },
  {
   "cell_type": "code",
   "execution_count": 16,
   "metadata": {},
   "outputs": [],
   "source": [
    "data= df.to_numpy()"
   ]
  },
  {
   "cell_type": "code",
   "execution_count": 22,
   "metadata": {},
   "outputs": [
    {
     "data": {
      "text/plain": [
       "array([[ 23.425 ,  23.0561,  23.1197, ...,  22.7693,  22.4518,  22.6072],\n",
       "       [ 23.5625,  23.425 ,  23.0561, ...,  23.0293,  22.7693,  22.4518],\n",
       "       [ 23.465 ,  23.5625,  23.425 , ...,  23.1197,  23.0293,  22.7693],\n",
       "       ...,\n",
       "       [189.98  , 186.88  , 190.9   , ..., 191.04  , 189.87  , 189.84  ],\n",
       "       [189.99  , 189.98  , 186.88  , ..., 192.35  , 191.04  , 189.87  ],\n",
       "       [190.29  , 189.99  , 189.98  , ..., 190.9   , 192.35  , 191.04  ]])"
      ]
     },
     "execution_count": 22,
     "metadata": {},
     "output_type": "execute_result"
    }
   ],
   "source": [
    "data"
   ]
  },
  {
   "cell_type": "code",
   "execution_count": 24,
   "metadata": {},
   "outputs": [],
   "source": [
    "from sklearn.preprocessing import MinMaxScaler"
   ]
  },
  {
   "cell_type": "code",
   "execution_count": 25,
   "metadata": {},
   "outputs": [
    {
     "data": {
      "text/plain": [
       "array([[-0.99025863, -0.99446166, -0.99373704, ..., -0.99772929,\n",
       "        -1.        , -0.99823065],\n",
       "       [-0.98869204, -0.99025863, -0.99446166, ..., -0.994767  ,\n",
       "        -0.99638503, -1.        ],\n",
       "       [-0.98980289, -0.98869204, -0.99025863, ..., -0.99373704,\n",
       "        -0.99342473, -0.99638503],\n",
       "       ...,\n",
       "       [ 0.90737154,  0.87205195,  0.91785348, ...,  0.91944856,\n",
       "         0.90618144,  0.90583986],\n",
       "       [ 0.90748547,  0.90737154,  0.87205195, ...,  0.93437393,\n",
       "         0.91950276,  0.90618144],\n",
       "       [ 0.9109035 ,  0.90748547,  0.90737154, ...,  0.91785348,\n",
       "         0.93441809,  0.91950276]])"
      ]
     },
     "execution_count": 25,
     "metadata": {},
     "output_type": "execute_result"
    }
   ],
   "source": [
    "scaler= MinMaxScaler(feature_range=(-1,1))\n",
    "transformed= scaler.fit_transform(data)\n",
    "transformed"
   ]
  }
 ],
 "metadata": {
  "kernelspec": {
   "display_name": "time_series",
   "language": "python",
   "name": "python3"
  },
  "language_info": {
   "codemirror_mode": {
    "name": "ipython",
    "version": 3
   },
   "file_extension": ".py",
   "mimetype": "text/x-python",
   "name": "python",
   "nbconvert_exporter": "python",
   "pygments_lexer": "ipython3",
   "version": "3.8.19"
  }
 },
 "nbformat": 4,
 "nbformat_minor": 2
}
