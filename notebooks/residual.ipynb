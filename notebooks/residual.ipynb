{
 "cells": [
  {
   "cell_type": "code",
   "execution_count": null,
   "metadata": {},
   "outputs": [],
   "source": [
    "# Residual code\n",
    "\n",
    "import plotly.graph_objects as go\n",
    "\n",
    "\n",
    "start_date = '2022-01-01'\n",
    "end_date = '2024-01-01'\n",
    "\n",
    "df1_filtered = df[(df.index >= start_date) & (df.index <= end_date)]\n",
    "\n",
    "fig = go.Figure()\n",
    "\n",
    "fig.add_trace(go.Scatter(\n",
    "    x=df1_filtered.index, \n",
    "    y=df1_filtered[\"Close/Last\"], \n",
    "    mode='lines',\n",
    "    name='Data',\n",
    "    line=dict(color='blue')\n",
    "))\n",
    "\n",
    "fig.add_shape(type='line',\n",
    "              x0=start_date, x1=end_date, y0=150, y1=150,\n",
    "              line=dict(color='red', dash='solid'),\n",
    "              name='Horizontal Line at 150')\n",
    "\n",
    "fig.add_shape(type='line',\n",
    "              x0=start_date, x1=end_date, y0=200, y1=200,\n",
    "              line=dict(color='red', dash='dash'),\n",
    "              name='Horizontal Line at 200')\n",
    "\n",
    "fig.add_shape(type='line',\n",
    "              x0='2022-06-01', x1='2022-06-01', y0=df1_filtered[\"Close/Last\"].min(), y1=df1_filtered[\"Close/Last\"].max(),\n",
    "              line=dict(color='red', dash='dash'),\n",
    "              name='Vertical Line at 2022-06-01')\n",
    "\n",
    "fig.add_shape(type='line',\n",
    "              x0='2023-01-01', x1='2023-01-01', y0=df1_filtered[\"Close/Last\"].min(), y1=df1_filtered[\"Close/Last\"].max(),\n",
    "              line=dict(color='red', dash='dash'),\n",
    "              name='Vertical Line at 2023-01-01')\n",
    "\n",
    "fig.update_layout(\n",
    "    title=\"Apple Stock Price\",\n",
    "    xaxis_title=\"Date\",\n",
    "    yaxis_title=\"Close Price\"\n",
    ")\n",
    "\n",
    "fig.show()"
   ]
  }
 ],
 "metadata": {
  "language_info": {
   "name": "python"
  }
 },
 "nbformat": 4,
 "nbformat_minor": 2
}
