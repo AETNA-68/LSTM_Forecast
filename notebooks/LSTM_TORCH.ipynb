{
 "cells": [
  {
   "cell_type": "markdown",
   "metadata": {},
   "source": [
    "- Libraries"
   ]
  },
  {
   "cell_type": "code",
   "execution_count": 1,
   "metadata": {},
   "outputs": [],
   "source": [
    "import pandas as pd\n",
    "import numpy as np\n",
    "import torch\n",
    "import torch.nn as nn\n",
    "import matplotlib.pyplot as plt\n",
    "from sklearn.preprocessing import MinMaxScaler"
   ]
  },
  {
   "cell_type": "markdown",
   "metadata": {},
   "source": [
    "- Stats for time series Data"
   ]
  },
  {
   "cell_type": "code",
   "execution_count": 2,
   "metadata": {},
   "outputs": [],
   "source": [
    "from statsmodels.graphics.tsaplots import plot_acf,plot_pacf \n",
    "from statsmodels.tsa.stattools import adfuller"
   ]
  },
  {
   "cell_type": "markdown",
   "metadata": {},
   "source": [
    "- Quality metrics"
   ]
  },
  {
   "cell_type": "code",
   "execution_count": 3,
   "metadata": {},
   "outputs": [],
   "source": [
    "from sklearn.metrics import mean_squared_error\n",
    "from statsmodels.tools.eval_measures import rmse\n",
    "from sklearn import metrics"
   ]
  },
  {
   "cell_type": "markdown",
   "metadata": {},
   "source": [
    "- DateTime and warning"
   ]
  },
  {
   "cell_type": "code",
   "execution_count": 4,
   "metadata": {},
   "outputs": [],
   "source": [
    "import warnings\n",
    "warnings.filterwarnings(\"ignore\")\n",
    "from DateTime import DateTime"
   ]
  },
  {
   "cell_type": "code",
   "execution_count": 5,
   "metadata": {},
   "outputs": [
    {
     "data": {
      "text/plain": [
       "'cpu'"
      ]
     },
     "execution_count": 5,
     "metadata": {},
     "output_type": "execute_result"
    }
   ],
   "source": [
    "device = 'cuda:0' if torch.cuda.is_available() else 'cpu'\n",
    "device"
   ]
  },
  {
   "cell_type": "markdown",
   "metadata": {},
   "source": [
    "## EDA\n",
    "- Analisis exploratorio para poder ver la distribucion de los datos y determinar sus propiedades"
   ]
  },
  {
   "cell_type": "markdown",
   "metadata": {},
   "source": [
    "- Selection of Data"
   ]
  },
  {
   "cell_type": "code",
   "execution_count": 3,
   "metadata": {},
   "outputs": [],
   "source": [
    "df= pd.read_csv('../Data/apple.csv',sep=',',encoding='utf-8')"
   ]
  },
  {
   "cell_type": "code",
   "execution_count": 4,
   "metadata": {},
   "outputs": [
    {
     "data": {
      "text/html": [
       "<div>\n",
       "<style scoped>\n",
       "    .dataframe tbody tr th:only-of-type {\n",
       "        vertical-align: middle;\n",
       "    }\n",
       "\n",
       "    .dataframe tbody tr th {\n",
       "        vertical-align: top;\n",
       "    }\n",
       "\n",
       "    .dataframe thead th {\n",
       "        text-align: right;\n",
       "    }\n",
       "</style>\n",
       "<table border=\"1\" class=\"dataframe\">\n",
       "  <thead>\n",
       "    <tr style=\"text-align: right;\">\n",
       "      <th></th>\n",
       "      <th>Date</th>\n",
       "      <th>Close/Last</th>\n",
       "      <th>Volume</th>\n",
       "      <th>Open</th>\n",
       "      <th>High</th>\n",
       "      <th>Low</th>\n",
       "    </tr>\n",
       "  </thead>\n",
       "  <tbody>\n",
       "    <tr>\n",
       "      <th>0</th>\n",
       "      <td>05/29/2024</td>\n",
       "      <td>$190.29</td>\n",
       "      <td>53068020</td>\n",
       "      <td>$189.61</td>\n",
       "      <td>$192.247</td>\n",
       "      <td>$189.51</td>\n",
       "    </tr>\n",
       "    <tr>\n",
       "      <th>1</th>\n",
       "      <td>05/28/2024</td>\n",
       "      <td>$189.99</td>\n",
       "      <td>52280050</td>\n",
       "      <td>$191.51</td>\n",
       "      <td>$193.00</td>\n",
       "      <td>$189.10</td>\n",
       "    </tr>\n",
       "    <tr>\n",
       "      <th>2</th>\n",
       "      <td>05/24/2024</td>\n",
       "      <td>$189.98</td>\n",
       "      <td>36326980</td>\n",
       "      <td>$188.82</td>\n",
       "      <td>$190.58</td>\n",
       "      <td>$188.0404</td>\n",
       "    </tr>\n",
       "    <tr>\n",
       "      <th>3</th>\n",
       "      <td>05/23/2024</td>\n",
       "      <td>$186.88</td>\n",
       "      <td>51005920</td>\n",
       "      <td>$190.98</td>\n",
       "      <td>$191.00</td>\n",
       "      <td>$186.625</td>\n",
       "    </tr>\n",
       "    <tr>\n",
       "      <th>4</th>\n",
       "      <td>05/22/2024</td>\n",
       "      <td>$190.90</td>\n",
       "      <td>34648550</td>\n",
       "      <td>$192.265</td>\n",
       "      <td>$192.8231</td>\n",
       "      <td>$190.27</td>\n",
       "    </tr>\n",
       "  </tbody>\n",
       "</table>\n",
       "</div>"
      ],
      "text/plain": [
       "         Date Close/Last    Volume      Open       High        Low\n",
       "0  05/29/2024    $190.29  53068020   $189.61   $192.247    $189.51\n",
       "1  05/28/2024    $189.99  52280050   $191.51    $193.00    $189.10\n",
       "2  05/24/2024    $189.98  36326980   $188.82    $190.58  $188.0404\n",
       "3  05/23/2024    $186.88  51005920   $190.98    $191.00   $186.625\n",
       "4  05/22/2024    $190.90  34648550  $192.265  $192.8231    $190.27"
      ]
     },
     "execution_count": 4,
     "metadata": {},
     "output_type": "execute_result"
    }
   ],
   "source": [
    "df.head()"
   ]
  },
  {
   "cell_type": "markdown",
   "metadata": {},
   "source": [
    "- Only working with closing values"
   ]
  },
  {
   "cell_type": "code",
   "execution_count": 3,
   "metadata": {},
   "outputs": [
    {
     "name": "stdout",
     "output_type": "stream",
     "text": [
      "<class 'pandas.core.frame.DataFrame'>\n",
      "RangeIndex: 2517 entries, 0 to 2516\n",
      "Data columns (total 2 columns):\n",
      " #   Column      Non-Null Count  Dtype  \n",
      "---  ------      --------------  -----  \n",
      " 0   Date        2517 non-null   object \n",
      " 1   Close/Last  2517 non-null   float64\n",
      "dtypes: float64(1), object(1)\n",
      "memory usage: 39.5+ KB\n"
     ]
    }
   ],
   "source": [
    "df= df[['Date','Close/Last']]\n",
    "df['Close/Last']=df['Close/Last'].str.replace('$','',regex=False).astype(float)\n",
    "df.info()"
   ]
  },
  {
   "cell_type": "markdown",
   "metadata": {},
   "source": [
    "- Passing Date to datetime"
   ]
  },
  {
   "cell_type": "code",
   "execution_count": 4,
   "metadata": {},
   "outputs": [],
   "source": [
    "df['Date']= pd.to_datetime(df['Date'])"
   ]
  },
  {
   "cell_type": "markdown",
   "metadata": {},
   "source": [
    "- Organizing the Data"
   ]
  },
  {
   "cell_type": "code",
   "execution_count": 5,
   "metadata": {},
   "outputs": [],
   "source": [
    "df.sort_values(by='Date',inplace=True)\n",
    "df.reset_index(inplace=True)\n",
    "df.drop(columns='index',inplace=True)"
   ]
  },
  {
   "cell_type": "markdown",
   "metadata": {},
   "source": [
    "- Plotting the Data"
   ]
  },
  {
   "cell_type": "code",
   "execution_count": 6,
   "metadata": {},
   "outputs": [
    {
     "data": {
      "text/plain": [
       "[<matplotlib.lines.Line2D at 0x17b4fc090>]"
      ]
     },
     "execution_count": 6,
     "metadata": {},
     "output_type": "execute_result"
    },
    {
     "data": {
      "image/png": "[encoded data removed]",
      "text/plain": [
       "<Figure size 640x480 with 1 Axes>"
      ]
     },
     "metadata": {},
     "output_type": "display_data"
    }
   ],
   "source": [
    "plt.plot(df['Date'], df['Close/Last'])"
   ]
  },
  {
   "cell_type": "markdown",
   "metadata": {},
   "source": [
    "- Setting the Data datetimeindex"
   ]
  },
  {
   "cell_type": "code",
   "execution_count": 7,
   "metadata": {},
   "outputs": [],
   "source": [
    "df.set_index('Date',inplace=True)"
   ]
  },
  {
   "cell_type": "markdown",
   "metadata": {},
   "source": [
    "- In order to work with this Algorithm and apply many different transformations trough the datetimeindex, is necessary to set the frequency of the data to 'Daily, if the data is not inferedl those manipulations and transformations are going to be more difficult to set"
   ]
  },
  {
   "cell_type": "markdown",
   "metadata": {},
   "source": [
    "- Function to create shifts or time-steps"
   ]
  },
  {
   "cell_type": "code",
   "execution_count": 8,
   "metadata": {},
   "outputs": [],
   "source": [
    "def transform_df(df,n_steps):\n",
    "    \n",
    "    for i in range(1,n_steps+1):\n",
    "        df[f'Close (t-{i})']= df['Close/Last'].shift(i)\n",
    "        \n",
    "    df.dropna(inplace=True)\n",
    "    return df\n",
    "     "
   ]
  },
  {
   "cell_type": "markdown",
   "metadata": {},
   "source": [
    "- Transformation of the data"
   ]
  },
  {
   "cell_type": "code",
   "execution_count": 9,
   "metadata": {},
   "outputs": [
    {
     "data": {
      "text/html": [
       "<div>\n",
       "<style scoped>\n",
       "    .dataframe tbody tr th:only-of-type {\n",
       "        vertical-align: middle;\n",
       "    }\n",
       "\n",
       "    .dataframe tbody tr th {\n",
       "        vertical-align: top;\n",
       "    }\n",
       "\n",
       "    .dataframe thead th {\n",
       "        text-align: right;\n",
       "    }\n",
       "</style>\n",
       "<table border=\"1\" class=\"dataframe\">\n",
       "  <thead>\n",
       "    <tr style=\"text-align: right;\">\n",
       "      <th></th>\n",
       "      <th>Close/Last</th>\n",
       "      <th>Close (t-1)</th>\n",
       "      <th>Close (t-2)</th>\n",
       "      <th>Close (t-3)</th>\n",
       "      <th>Close (t-4)</th>\n",
       "      <th>Close (t-5)</th>\n",
       "      <th>Close (t-6)</th>\n",
       "    </tr>\n",
       "    <tr>\n",
       "      <th>Date</th>\n",
       "      <th></th>\n",
       "      <th></th>\n",
       "      <th></th>\n",
       "      <th></th>\n",
       "      <th></th>\n",
       "      <th></th>\n",
       "      <th></th>\n",
       "    </tr>\n",
       "  </thead>\n",
       "  <tbody>\n",
       "    <tr>\n",
       "      <th>2014-06-09</th>\n",
       "      <td>23.4250</td>\n",
       "      <td>23.0561</td>\n",
       "      <td>23.1197</td>\n",
       "      <td>23.0293</td>\n",
       "      <td>22.7693</td>\n",
       "      <td>22.4518</td>\n",
       "      <td>22.6072</td>\n",
       "    </tr>\n",
       "    <tr>\n",
       "      <th>2014-06-10</th>\n",
       "      <td>23.5625</td>\n",
       "      <td>23.4250</td>\n",
       "      <td>23.0561</td>\n",
       "      <td>23.1197</td>\n",
       "      <td>23.0293</td>\n",
       "      <td>22.7693</td>\n",
       "      <td>22.4518</td>\n",
       "    </tr>\n",
       "    <tr>\n",
       "      <th>2014-06-11</th>\n",
       "      <td>23.4650</td>\n",
       "      <td>23.5625</td>\n",
       "      <td>23.4250</td>\n",
       "      <td>23.0561</td>\n",
       "      <td>23.1197</td>\n",
       "      <td>23.0293</td>\n",
       "      <td>22.7693</td>\n",
       "    </tr>\n",
       "    <tr>\n",
       "      <th>2014-06-12</th>\n",
       "      <td>23.0725</td>\n",
       "      <td>23.4650</td>\n",
       "      <td>23.5625</td>\n",
       "      <td>23.4250</td>\n",
       "      <td>23.0561</td>\n",
       "      <td>23.1197</td>\n",
       "      <td>23.0293</td>\n",
       "    </tr>\n",
       "    <tr>\n",
       "      <th>2014-06-13</th>\n",
       "      <td>22.8200</td>\n",
       "      <td>23.0725</td>\n",
       "      <td>23.4650</td>\n",
       "      <td>23.5625</td>\n",
       "      <td>23.4250</td>\n",
       "      <td>23.0561</td>\n",
       "      <td>23.1197</td>\n",
       "    </tr>\n",
       "  </tbody>\n",
       "</table>\n",
       "</div>"
      ],
      "text/plain": [
       "            Close/Last  Close (t-1)  Close (t-2)  Close (t-3)  Close (t-4)  \\\n",
       "Date                                                                         \n",
       "2014-06-09     23.4250      23.0561      23.1197      23.0293      22.7693   \n",
       "2014-06-10     23.5625      23.4250      23.0561      23.1197      23.0293   \n",
       "2014-06-11     23.4650      23.5625      23.4250      23.0561      23.1197   \n",
       "2014-06-12     23.0725      23.4650      23.5625      23.4250      23.0561   \n",
       "2014-06-13     22.8200      23.0725      23.4650      23.5625      23.4250   \n",
       "\n",
       "            Close (t-5)  Close (t-6)  \n",
       "Date                                  \n",
       "2014-06-09      22.4518      22.6072  \n",
       "2014-06-10      22.7693      22.4518  \n",
       "2014-06-11      23.0293      22.7693  \n",
       "2014-06-12      23.1197      23.0293  \n",
       "2014-06-13      23.0561      23.1197  "
      ]
     },
     "execution_count": 9,
     "metadata": {},
     "output_type": "execute_result"
    }
   ],
   "source": [
    "data= transform_df(df,6)\n",
    "data.head()"
   ]
  },
  {
   "cell_type": "code",
   "execution_count": 10,
   "metadata": {},
   "outputs": [
    {
     "name": "stdout",
     "output_type": "stream",
     "text": [
      "D\n"
     ]
    }
   ],
   "source": [
    "df=df.asfreq('D')\n",
    "df.ffill(inplace=True)\n",
    "freq= pd.infer_freq(df.index)\n",
    "print(freq)"
   ]
  },
  {
   "cell_type": "markdown",
   "metadata": {},
   "source": [
    "- Head para corroborar cambios efectuados"
   ]
  },
  {
   "cell_type": "code",
   "execution_count": 13,
   "metadata": {},
   "outputs": [
    {
     "data": {
      "text/html": [
       "<div>\n",
       "<style scoped>\n",
       "    .dataframe tbody tr th:only-of-type {\n",
       "        vertical-align: middle;\n",
       "    }\n",
       "\n",
       "    .dataframe tbody tr th {\n",
       "        vertical-align: top;\n",
       "    }\n",
       "\n",
       "    .dataframe thead th {\n",
       "        text-align: right;\n",
       "    }\n",
       "</style>\n",
       "<table border=\"1\" class=\"dataframe\">\n",
       "  <thead>\n",
       "    <tr style=\"text-align: right;\">\n",
       "      <th></th>\n",
       "      <th>Close/Last</th>\n",
       "      <th>Close (t-1)</th>\n",
       "      <th>Close (t-2)</th>\n",
       "      <th>Close (t-3)</th>\n",
       "      <th>Close (t-4)</th>\n",
       "      <th>Close (t-5)</th>\n",
       "      <th>Close (t-6)</th>\n",
       "    </tr>\n",
       "    <tr>\n",
       "      <th>Date</th>\n",
       "      <th></th>\n",
       "      <th></th>\n",
       "      <th></th>\n",
       "      <th></th>\n",
       "      <th></th>\n",
       "      <th></th>\n",
       "      <th></th>\n",
       "    </tr>\n",
       "  </thead>\n",
       "  <tbody>\n",
       "    <tr>\n",
       "      <th>2014-06-09</th>\n",
       "      <td>23.4250</td>\n",
       "      <td>23.0561</td>\n",
       "      <td>23.1197</td>\n",
       "      <td>23.0293</td>\n",
       "      <td>22.7693</td>\n",
       "      <td>22.4518</td>\n",
       "      <td>22.6072</td>\n",
       "    </tr>\n",
       "    <tr>\n",
       "      <th>2014-06-10</th>\n",
       "      <td>23.5625</td>\n",
       "      <td>23.4250</td>\n",
       "      <td>23.0561</td>\n",
       "      <td>23.1197</td>\n",
       "      <td>23.0293</td>\n",
       "      <td>22.7693</td>\n",
       "      <td>22.4518</td>\n",
       "    </tr>\n",
       "    <tr>\n",
       "      <th>2014-06-11</th>\n",
       "      <td>23.4650</td>\n",
       "      <td>23.5625</td>\n",
       "      <td>23.4250</td>\n",
       "      <td>23.0561</td>\n",
       "      <td>23.1197</td>\n",
       "      <td>23.0293</td>\n",
       "      <td>22.7693</td>\n",
       "    </tr>\n",
       "    <tr>\n",
       "      <th>2014-06-12</th>\n",
       "      <td>23.0725</td>\n",
       "      <td>23.4650</td>\n",
       "      <td>23.5625</td>\n",
       "      <td>23.4250</td>\n",
       "      <td>23.0561</td>\n",
       "      <td>23.1197</td>\n",
       "      <td>23.0293</td>\n",
       "    </tr>\n",
       "    <tr>\n",
       "      <th>2014-06-13</th>\n",
       "      <td>22.8200</td>\n",
       "      <td>23.0725</td>\n",
       "      <td>23.4650</td>\n",
       "      <td>23.5625</td>\n",
       "      <td>23.4250</td>\n",
       "      <td>23.0561</td>\n",
       "      <td>23.1197</td>\n",
       "    </tr>\n",
       "  </tbody>\n",
       "</table>\n",
       "</div>"
      ],
      "text/plain": [
       "            Close/Last  Close (t-1)  Close (t-2)  Close (t-3)  Close (t-4)  \\\n",
       "Date                                                                         \n",
       "2014-06-09     23.4250      23.0561      23.1197      23.0293      22.7693   \n",
       "2014-06-10     23.5625      23.4250      23.0561      23.1197      23.0293   \n",
       "2014-06-11     23.4650      23.5625      23.4250      23.0561      23.1197   \n",
       "2014-06-12     23.0725      23.4650      23.5625      23.4250      23.0561   \n",
       "2014-06-13     22.8200      23.0725      23.4650      23.5625      23.4250   \n",
       "\n",
       "            Close (t-5)  Close (t-6)  \n",
       "Date                                  \n",
       "2014-06-09      22.4518      22.6072  \n",
       "2014-06-10      22.7693      22.4518  \n",
       "2014-06-11      23.0293      22.7693  \n",
       "2014-06-12      23.1197      23.0293  \n",
       "2014-06-13      23.0561      23.1197  "
      ]
     },
     "execution_count": 13,
     "metadata": {},
     "output_type": "execute_result"
    }
   ],
   "source": [
    "df.head(2)"
   ]
  },
  {
   "cell_type": "markdown",
   "metadata": {},
   "source": [
    "- Transforma todos los datos del dataset a arrays"
   ]
  },
  {
   "cell_type": "code",
   "execution_count": 11,
   "metadata": {},
   "outputs": [],
   "source": [
    "data_array= df.to_numpy()\n",
    "data_array"
   ]
  },
  {
   "cell_type": "markdown",
   "metadata": {},
   "source": [
    "- Escalado de valores del array entre -1,1 para alimentar el modelo"
   ]
  },
  {
   "cell_type": "code",
   "execution_count": 22,
   "metadata": {},
   "outputs": [
    {
     "data": {
      "text/plain": [
       "array([[-0.99025863, -0.99446166, -0.99373704, ..., -0.99772929,\n",
       "        -1.        , -0.99823065],\n",
       "       [-0.98869204, -0.99025863, -0.99446166, ..., -0.994767  ,\n",
       "        -0.99638503, -1.        ],\n",
       "       [-0.98980289, -0.98869204, -0.99025863, ..., -0.99373704,\n",
       "        -0.99342473, -0.99638503],\n",
       "       ...,\n",
       "       [ 0.90737154,  0.87205195,  0.91785348, ...,  0.91944856,\n",
       "         0.90618144,  0.90583986],\n",
       "       [ 0.90748547,  0.90737154,  0.87205195, ...,  0.93437393,\n",
       "         0.91950276,  0.90618144],\n",
       "       [ 0.9109035 ,  0.90748547,  0.90737154, ...,  0.91785348,\n",
       "         0.93441809,  0.91950276]])"
      ]
     },
     "execution_count": 22,
     "metadata": {},
     "output_type": "execute_result"
    }
   ],
   "source": [
    "scaler= MinMaxScaler(feature_range=(-1,1))\n",
    "transformed= scaler.fit_transform(data)\n",
    "transformed"
   ]
  }
 ],
 "metadata": {
  "kernelspec": {
   "display_name": "time_series",
   "language": "python",
   "name": "python3"
  },
  "language_info": {
   "codemirror_mode": {
    "name": "ipython",
    "version": 3
   },
   "file_extension": ".py",
   "mimetype": "text/x-python",
   "name": "python",
   "nbconvert_exporter": "python",
   "pygments_lexer": "ipython3",
   "version": "3.11.4"
  }
 },
 "nbformat": 4,
 "nbformat_minor": 2
}
