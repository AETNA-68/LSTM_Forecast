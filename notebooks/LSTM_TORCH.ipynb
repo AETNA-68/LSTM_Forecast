{
 "cells": [
  {
   "cell_type": "markdown",
   "metadata": {},
   "source": [
    "- Libraries"
   ]
  },
  {
   "cell_type": "code",
   "execution_count": 1,
   "metadata": {},
   "outputs": [],
   "source": [
    "import pandas as pd\n",
    "import numpy as np\n",
    "import torch\n",
    "import torch.nn as nn\n",
    "import matplotlib.pyplot as plt\n",
    "from sklearn.preprocessing import MinMaxScaler"
   ]
  },
  {
   "cell_type": "code",
   "execution_count": 2,
   "metadata": {},
   "outputs": [],
   "source": [
    "from copy import deepcopy as dc"
   ]
  },
  {
   "cell_type": "code",
   "execution_count": 3,
   "metadata": {},
   "outputs": [
    {
     "name": "stdout",
     "output_type": "stream",
     "text": [
      "Requirement already satisfied: deep in /Users/main/Desktop/LSTM_Forecast/time/lib/python3.11/site-packages (0.10)\n",
      "Note: you may need to restart the kernel to use updated packages.\n"
     ]
    }
   ],
   "source": [
    "%pip install deep"
   ]
  },
  {
   "cell_type": "markdown",
   "metadata": {},
   "source": [
    "- Stats for time series Data"
   ]
  },
  {
   "cell_type": "code",
   "execution_count": 4,
   "metadata": {},
   "outputs": [],
   "source": [
    "from statsmodels.graphics.tsaplots import plot_acf,plot_pacf \n",
    "from statsmodels.tsa.stattools import adfuller"
   ]
  },
  {
   "cell_type": "markdown",
   "metadata": {},
   "source": [
    "- Quality metrics"
   ]
  },
  {
   "cell_type": "code",
   "execution_count": 5,
   "metadata": {},
   "outputs": [],
   "source": [
    "from sklearn.metrics import mean_squared_error\n",
    "from statsmodels.tools.eval_measures import rmse\n",
    "from sklearn import metrics"
   ]
  },
  {
   "cell_type": "markdown",
   "metadata": {},
   "source": [
    "- DateTime and warning"
   ]
  },
  {
   "cell_type": "code",
   "execution_count": 6,
   "metadata": {},
   "outputs": [],
   "source": [
    "import warnings\n",
    "warnings.filterwarnings(\"ignore\")\n",
    "from DateTime import DateTime"
   ]
  },
  {
   "cell_type": "code",
   "execution_count": 7,
   "metadata": {},
   "outputs": [
    {
     "data": {
      "text/plain": [
       "'cpu'"
      ]
     },
     "execution_count": 7,
     "metadata": {},
     "output_type": "execute_result"
    }
   ],
   "source": [
    "device = 'cuda:0' if torch.cuda.is_available() else 'cpu'\n",
    "device"
   ]
  },
  {
   "cell_type": "markdown",
   "metadata": {},
   "source": [
    "## EDA\n",
    "- Analisis exploratorio para poder ver la distribucion de los datos y determinar sus propiedades\n",
    "    - Dejaremos esto para otro momento"
   ]
  },
  {
   "cell_type": "markdown",
   "metadata": {},
   "source": [
    "- Selection of Data"
   ]
  },
  {
   "cell_type": "code",
   "execution_count": 8,
   "metadata": {},
   "outputs": [],
   "source": [
    "df= pd.read_csv('../Data/apple.csv',sep=',',encoding='utf-8')"
   ]
  },
  {
   "cell_type": "code",
   "execution_count": 9,
   "metadata": {},
   "outputs": [
    {
     "data": {
      "text/html": [
       "<div>\n",
       "<style scoped>\n",
       "    .dataframe tbody tr th:only-of-type {\n",
       "        vertical-align: middle;\n",
       "    }\n",
       "\n",
       "    .dataframe tbody tr th {\n",
       "        vertical-align: top;\n",
       "    }\n",
       "\n",
       "    .dataframe thead th {\n",
       "        text-align: right;\n",
       "    }\n",
       "</style>\n",
       "<table border=\"1\" class=\"dataframe\">\n",
       "  <thead>\n",
       "    <tr style=\"text-align: right;\">\n",
       "      <th></th>\n",
       "      <th>Date</th>\n",
       "      <th>Close/Last</th>\n",
       "      <th>Volume</th>\n",
       "      <th>Open</th>\n",
       "      <th>High</th>\n",
       "      <th>Low</th>\n",
       "    </tr>\n",
       "  </thead>\n",
       "  <tbody>\n",
       "    <tr>\n",
       "      <th>0</th>\n",
       "      <td>05/29/2024</td>\n",
       "      <td>$190.29</td>\n",
       "      <td>53068020</td>\n",
       "      <td>$189.61</td>\n",
       "      <td>$192.247</td>\n",
       "      <td>$189.51</td>\n",
       "    </tr>\n",
       "    <tr>\n",
       "      <th>1</th>\n",
       "      <td>05/28/2024</td>\n",
       "      <td>$189.99</td>\n",
       "      <td>52280050</td>\n",
       "      <td>$191.51</td>\n",
       "      <td>$193.00</td>\n",
       "      <td>$189.10</td>\n",
       "    </tr>\n",
       "    <tr>\n",
       "      <th>2</th>\n",
       "      <td>05/24/2024</td>\n",
       "      <td>$189.98</td>\n",
       "      <td>36326980</td>\n",
       "      <td>$188.82</td>\n",
       "      <td>$190.58</td>\n",
       "      <td>$188.0404</td>\n",
       "    </tr>\n",
       "    <tr>\n",
       "      <th>3</th>\n",
       "      <td>05/23/2024</td>\n",
       "      <td>$186.88</td>\n",
       "      <td>51005920</td>\n",
       "      <td>$190.98</td>\n",
       "      <td>$191.00</td>\n",
       "      <td>$186.625</td>\n",
       "    </tr>\n",
       "    <tr>\n",
       "      <th>4</th>\n",
       "      <td>05/22/2024</td>\n",
       "      <td>$190.90</td>\n",
       "      <td>34648550</td>\n",
       "      <td>$192.265</td>\n",
       "      <td>$192.8231</td>\n",
       "      <td>$190.27</td>\n",
       "    </tr>\n",
       "  </tbody>\n",
       "</table>\n",
       "</div>"
      ],
      "text/plain": [
       "         Date Close/Last    Volume      Open       High        Low\n",
       "0  05/29/2024    $190.29  53068020   $189.61   $192.247    $189.51\n",
       "1  05/28/2024    $189.99  52280050   $191.51    $193.00    $189.10\n",
       "2  05/24/2024    $189.98  36326980   $188.82    $190.58  $188.0404\n",
       "3  05/23/2024    $186.88  51005920   $190.98    $191.00   $186.625\n",
       "4  05/22/2024    $190.90  34648550  $192.265  $192.8231    $190.27"
      ]
     },
     "execution_count": 9,
     "metadata": {},
     "output_type": "execute_result"
    }
   ],
   "source": [
    "df.head()"
   ]
  },
  {
   "cell_type": "markdown",
   "metadata": {},
   "source": [
    "- Only working with closing values"
   ]
  },
  {
   "cell_type": "code",
   "execution_count": 10,
   "metadata": {},
   "outputs": [
    {
     "name": "stdout",
     "output_type": "stream",
     "text": [
      "<class 'pandas.core.frame.DataFrame'>\n",
      "RangeIndex: 2517 entries, 0 to 2516\n",
      "Data columns (total 2 columns):\n",
      " #   Column      Non-Null Count  Dtype  \n",
      "---  ------      --------------  -----  \n",
      " 0   Date        2517 non-null   object \n",
      " 1   Close/Last  2517 non-null   float64\n",
      "dtypes: float64(1), object(1)\n",
      "memory usage: 39.5+ KB\n"
     ]
    }
   ],
   "source": [
    "df= df[['Date','Close/Last']]\n",
    "df['Close/Last']=df['Close/Last'].str.replace('$','',regex=False).astype(float)\n",
    "df.info()"
   ]
  },
  {
   "cell_type": "markdown",
   "metadata": {},
   "source": [
    "- Passing Date to datetime"
   ]
  },
  {
   "cell_type": "code",
   "execution_count": 11,
   "metadata": {},
   "outputs": [],
   "source": [
    "df['Date']= pd.to_datetime(df['Date'])"
   ]
  },
  {
   "cell_type": "markdown",
   "metadata": {},
   "source": [
    "- Organizing the Data"
   ]
  },
  {
   "cell_type": "code",
   "execution_count": 12,
   "metadata": {},
   "outputs": [],
   "source": [
    "df.sort_values(by='Date',inplace=True)\n",
    "df.reset_index(inplace=True)\n",
    "df.drop(columns='index',inplace=True)"
   ]
  },
  {
   "cell_type": "markdown",
   "metadata": {},
   "source": [
    "- Plotting the Data"
   ]
  },
  {
   "cell_type": "code",
   "execution_count": 13,
   "metadata": {},
   "outputs": [
    {
     "data": {
      "text/plain": [
       "[<matplotlib.lines.Line2D at 0x306efa550>]"
      ]
     },
     "execution_count": 13,
     "metadata": {},
     "output_type": "execute_result"
    },
    {
     "data": {
      "image/png": "[encoded data removed]",
      "text/plain": [
       "<Figure size 640x480 with 1 Axes>"
      ]
     },
     "metadata": {},
     "output_type": "display_data"
    }
   ],
   "source": [
    "plt.plot(df['Date'], df['Close/Last'])"
   ]
  },
  {
   "cell_type": "markdown",
   "metadata": {},
   "source": [
    "- Setting the Data datetimeindex"
   ]
  },
  {
   "cell_type": "code",
   "execution_count": 14,
   "metadata": {},
   "outputs": [],
   "source": [
    "df.set_index('Date',inplace=True)"
   ]
  },
  {
   "cell_type": "markdown",
   "metadata": {},
   "source": [
    "- In order to work with this Algorithm and apply many different transformations trough the datetimeindex, is necessary to set the frequency of the data to 'Daily, if the data is not inferedl those manipulations and transformations are going to be more difficult to set"
   ]
  },
  {
   "cell_type": "markdown",
   "metadata": {},
   "source": [
    "- Function to create shifts or time-steps"
   ]
  },
  {
   "cell_type": "code",
   "execution_count": 15,
   "metadata": {},
   "outputs": [],
   "source": [
    "def transform_df(df,n_steps):\n",
    "    \n",
    "    for i in range(1,n_steps+1):\n",
    "        df[f'Close (t-{i})']= df['Close/Last'].shift(i)\n",
    "        \n",
    "    df.dropna(inplace=True)\n",
    "    return df\n",
    "     "
   ]
  },
  {
   "cell_type": "markdown",
   "metadata": {},
   "source": [
    "- Transformation of the data"
   ]
  },
  {
   "cell_type": "code",
   "execution_count": 16,
   "metadata": {},
   "outputs": [],
   "source": [
    "lookback= 7"
   ]
  },
  {
   "cell_type": "code",
   "execution_count": 17,
   "metadata": {},
   "outputs": [
    {
     "data": {
      "text/html": [
       "<div>\n",
       "<style scoped>\n",
       "    .dataframe tbody tr th:only-of-type {\n",
       "        vertical-align: middle;\n",
       "    }\n",
       "\n",
       "    .dataframe tbody tr th {\n",
       "        vertical-align: top;\n",
       "    }\n",
       "\n",
       "    .dataframe thead th {\n",
       "        text-align: right;\n",
       "    }\n",
       "</style>\n",
       "<table border=\"1\" class=\"dataframe\">\n",
       "  <thead>\n",
       "    <tr style=\"text-align: right;\">\n",
       "      <th></th>\n",
       "      <th>Close/Last</th>\n",
       "      <th>Close (t-1)</th>\n",
       "      <th>Close (t-2)</th>\n",
       "      <th>Close (t-3)</th>\n",
       "      <th>Close (t-4)</th>\n",
       "      <th>Close (t-5)</th>\n",
       "      <th>Close (t-6)</th>\n",
       "      <th>Close (t-7)</th>\n",
       "    </tr>\n",
       "    <tr>\n",
       "      <th>Date</th>\n",
       "      <th></th>\n",
       "      <th></th>\n",
       "      <th></th>\n",
       "      <th></th>\n",
       "      <th></th>\n",
       "      <th></th>\n",
       "      <th></th>\n",
       "      <th></th>\n",
       "    </tr>\n",
       "  </thead>\n",
       "  <tbody>\n",
       "    <tr>\n",
       "      <th>2014-06-10</th>\n",
       "      <td>23.5625</td>\n",
       "      <td>23.4250</td>\n",
       "      <td>23.0561</td>\n",
       "      <td>23.1197</td>\n",
       "      <td>23.0293</td>\n",
       "      <td>22.7693</td>\n",
       "      <td>22.4518</td>\n",
       "      <td>22.6072</td>\n",
       "    </tr>\n",
       "    <tr>\n",
       "      <th>2014-06-11</th>\n",
       "      <td>23.4650</td>\n",
       "      <td>23.5625</td>\n",
       "      <td>23.4250</td>\n",
       "      <td>23.0561</td>\n",
       "      <td>23.1197</td>\n",
       "      <td>23.0293</td>\n",
       "      <td>22.7693</td>\n",
       "      <td>22.4518</td>\n",
       "    </tr>\n",
       "    <tr>\n",
       "      <th>2014-06-12</th>\n",
       "      <td>23.0725</td>\n",
       "      <td>23.4650</td>\n",
       "      <td>23.5625</td>\n",
       "      <td>23.4250</td>\n",
       "      <td>23.0561</td>\n",
       "      <td>23.1197</td>\n",
       "      <td>23.0293</td>\n",
       "      <td>22.7693</td>\n",
       "    </tr>\n",
       "    <tr>\n",
       "      <th>2014-06-13</th>\n",
       "      <td>22.8200</td>\n",
       "      <td>23.0725</td>\n",
       "      <td>23.4650</td>\n",
       "      <td>23.5625</td>\n",
       "      <td>23.4250</td>\n",
       "      <td>23.0561</td>\n",
       "      <td>23.1197</td>\n",
       "      <td>23.0293</td>\n",
       "    </tr>\n",
       "    <tr>\n",
       "      <th>2014-06-16</th>\n",
       "      <td>23.0500</td>\n",
       "      <td>22.8200</td>\n",
       "      <td>23.0725</td>\n",
       "      <td>23.4650</td>\n",
       "      <td>23.5625</td>\n",
       "      <td>23.4250</td>\n",
       "      <td>23.0561</td>\n",
       "      <td>23.1197</td>\n",
       "    </tr>\n",
       "  </tbody>\n",
       "</table>\n",
       "</div>"
      ],
      "text/plain": [
       "            Close/Last  Close (t-1)  Close (t-2)  Close (t-3)  Close (t-4)  \\\n",
       "Date                                                                         \n",
       "2014-06-10     23.5625      23.4250      23.0561      23.1197      23.0293   \n",
       "2014-06-11     23.4650      23.5625      23.4250      23.0561      23.1197   \n",
       "2014-06-12     23.0725      23.4650      23.5625      23.4250      23.0561   \n",
       "2014-06-13     22.8200      23.0725      23.4650      23.5625      23.4250   \n",
       "2014-06-16     23.0500      22.8200      23.0725      23.4650      23.5625   \n",
       "\n",
       "            Close (t-5)  Close (t-6)  Close (t-7)  \n",
       "Date                                               \n",
       "2014-06-10      22.7693      22.4518      22.6072  \n",
       "2014-06-11      23.0293      22.7693      22.4518  \n",
       "2014-06-12      23.1197      23.0293      22.7693  \n",
       "2014-06-13      23.0561      23.1197      23.0293  \n",
       "2014-06-16      23.4250      23.0561      23.1197  "
      ]
     },
     "execution_count": 17,
     "metadata": {},
     "output_type": "execute_result"
    }
   ],
   "source": [
    "data= transform_df(df,lookback)\n",
    "data.head()"
   ]
  },
  {
   "cell_type": "code",
   "execution_count": 18,
   "metadata": {},
   "outputs": [
    {
     "name": "stdout",
     "output_type": "stream",
     "text": [
      "D\n"
     ]
    }
   ],
   "source": [
    "df=df.asfreq('D')\n",
    "df.ffill(inplace=True)\n",
    "freq= pd.infer_freq(df.index)\n",
    "print(freq)"
   ]
  },
  {
   "cell_type": "markdown",
   "metadata": {},
   "source": [
    "- Head para corroborar cambios efectuados"
   ]
  },
  {
   "cell_type": "markdown",
   "metadata": {},
   "source": [
    "- Transforma todos los datos del dataset a arrays"
   ]
  },
  {
   "cell_type": "code",
   "execution_count": 19,
   "metadata": {},
   "outputs": [
    {
     "data": {
      "text/plain": [
       "array([[ 23.5625,  23.425 ,  23.0561, ...,  22.7693,  22.4518,  22.6072],\n",
       "       [ 23.465 ,  23.5625,  23.425 , ...,  23.0293,  22.7693,  22.4518],\n",
       "       [ 23.0725,  23.465 ,  23.5625, ...,  23.1197,  23.0293,  22.7693],\n",
       "       ...,\n",
       "       [189.98  , 186.88  , 190.9   , ..., 189.87  , 189.84  , 189.72  ],\n",
       "       [189.99  , 189.98  , 186.88  , ..., 191.04  , 189.87  , 189.84  ],\n",
       "       [190.29  , 189.99  , 189.98  , ..., 192.35  , 191.04  , 189.87  ]])"
      ]
     },
     "execution_count": 19,
     "metadata": {},
     "output_type": "execute_result"
    }
   ],
   "source": [
    "data_array= df.to_numpy()\n",
    "data_array"
   ]
  },
  {
   "cell_type": "markdown",
   "metadata": {},
   "source": [
    "- Escalado de valores del array entre -1,1 para alimentar el modelo"
   ]
  },
  {
   "cell_type": "code",
   "execution_count": 20,
   "metadata": {},
   "outputs": [
    {
     "data": {
      "text/plain": [
       "array([[-0.98869204, -0.99025863, -0.99446166, ..., -0.99772929,\n",
       "        -1.        , -0.99823065],\n",
       "       [-0.98980289, -0.98869204, -0.99025863, ..., -0.994767  ,\n",
       "        -0.99638503, -1.        ],\n",
       "       [-0.99427481, -0.98980289, -0.98869204, ..., -0.99373704,\n",
       "        -0.99342473, -0.99638503],\n",
       "       ...,\n",
       "       [ 0.90737154,  0.87205195,  0.91785348, ...,  0.90611826,\n",
       "         0.90583986,  0.90447357],\n",
       "       [ 0.90748547,  0.90737154,  0.87205195, ...,  0.91944856,\n",
       "         0.90618144,  0.90583986],\n",
       "       [ 0.9109035 ,  0.90748547,  0.90737154, ...,  0.93437393,\n",
       "         0.91950276,  0.90618144]])"
      ]
     },
     "execution_count": 20,
     "metadata": {},
     "output_type": "execute_result"
    }
   ],
   "source": [
    "scaler= MinMaxScaler(feature_range=(-1,1))\n",
    "transformed= scaler.fit_transform(data)\n",
    "transformed"
   ]
  },
  {
   "cell_type": "markdown",
   "metadata": {},
   "source": [
    "- Haciendo Slicing para dividir el dato de entrenamiento y el target"
   ]
  },
  {
   "cell_type": "code",
   "execution_count": 21,
   "metadata": {},
   "outputs": [],
   "source": [
    "X= transformed[:,1:]\n",
    "y= transformed[:,0]"
   ]
  },
  {
   "cell_type": "markdown",
   "metadata": {},
   "source": [
    "- Imprimir shape para comparar resultados"
   ]
  },
  {
   "cell_type": "code",
   "execution_count": 22,
   "metadata": {},
   "outputs": [
    {
     "name": "stdout",
     "output_type": "stream",
     "text": [
      "(2510, 7)\n",
      "(2510,)\n"
     ]
    }
   ],
   "source": [
    "print(X.shape)\n",
    "print(y.shape)"
   ]
  },
  {
   "cell_type": "markdown",
   "metadata": {},
   "source": [
    "- Al haber creado las diferencias en el tiempo o los lags, no se tomo en consideracion que los datos tienen que estar en una secuencia que permita el dato mas reciente, hay que invertir la matrix (espejo, para tener el resultado esperado)"
   ]
  },
  {
   "cell_type": "code",
   "execution_count": 23,
   "metadata": {},
   "outputs": [],
   "source": [
    "X= dc(np.flip(X,axis=1))"
   ]
  },
  {
   "cell_type": "code",
   "execution_count": 24,
   "metadata": {},
   "outputs": [
    {
     "data": {
      "text/plain": [
       "(2510, 7)"
      ]
     },
     "execution_count": 24,
     "metadata": {},
     "output_type": "execute_result"
    }
   ],
   "source": [
    "X.shape"
   ]
  },
  {
   "cell_type": "code",
   "execution_count": 25,
   "metadata": {},
   "outputs": [
    {
     "data": {
      "text/plain": [
       "2259"
      ]
     },
     "execution_count": 25,
     "metadata": {},
     "output_type": "execute_result"
    }
   ],
   "source": [
    "split_index= int(len(X) * 0.90)\n",
    "split_index"
   ]
  },
  {
   "cell_type": "markdown",
   "metadata": {},
   "source": [
    "- Dividing x and y"
   ]
  },
  {
   "cell_type": "code",
   "execution_count": 26,
   "metadata": {},
   "outputs": [
    {
     "data": {
      "text/plain": [
       "((2259, 7), (251, 7), (2259,), (251,))"
      ]
     },
     "execution_count": 26,
     "metadata": {},
     "output_type": "execute_result"
    }
   ],
   "source": [
    "X_train= X[:split_index]\n",
    "X_test= X[split_index:]\n",
    "y_train= y[:split_index]\n",
    "y_test= y[split_index:]\n",
    "\n",
    "X_train.shape, X_test.shape, y_train.shape, y_test.shape"
   ]
  },
  {
   "cell_type": "markdown",
   "metadata": {},
   "source": [
    "- Torch only work with tensors, so tge data has to be reshaped"
   ]
  },
  {
   "cell_type": "code",
   "execution_count": 27,
   "metadata": {},
   "outputs": [],
   "source": [
    "X_train= X_train.reshape((-1,lookback,1))\n",
    "X_test= X_test.reshape((-1,lookback,1))\n",
    "\n",
    "y_train= y_train.reshape((-1,1))\n",
    "y_test= y_test.reshape((-1,1))"
   ]
  },
  {
   "cell_type": "code",
   "execution_count": 28,
   "metadata": {},
   "outputs": [],
   "source": [
    "X_train= torch.tensor(X_train).float()\n",
    "X_test= torch.tensor(X_test).float()\n",
    "y_train= torch.tensor(y_train).float()\n",
    "y_test= torch.tensor(y_test).float()"
   ]
  },
  {
   "cell_type": "code",
   "execution_count": 29,
   "metadata": {},
   "outputs": [],
   "source": [
    "from torch.utils.data import Dataset"
   ]
  },
  {
   "cell_type": "code",
   "execution_count": 30,
   "metadata": {},
   "outputs": [],
   "source": [
    "class TimeSeries(Dataset):\n",
    "    def __init__(self,X,y):\n",
    "        self.X= X\n",
    "        self.y= y\n",
    "    \n",
    "    def __len__(self):\n",
    "        return len(self.X)\n",
    "    \n",
    "    def __getitem__(self,i):\n",
    "        return self.X[i],self.y[i]\n",
    "    \n",
    "train_dataset= TimeSeries(X_train,y_train)\n",
    "test_dataset= TimeSeries(X_test,y_test)"
   ]
  },
  {
   "cell_type": "code",
   "execution_count": 31,
   "metadata": {},
   "outputs": [],
   "source": [
    "from torch.utils.data import DataLoader\n",
    "batch_size =16\n",
    "train_loader = DataLoader(train_dataset,batch_size=batch_size,shuffle=True)\n",
    "test_loader = DataLoader(test_dataset,batch_size=batch_size,shuffle=False)"
   ]
  },
  {
   "cell_type": "code",
   "execution_count": 32,
   "metadata": {},
   "outputs": [
    {
     "name": "stdout",
     "output_type": "stream",
     "text": [
      "torch.Size([16, 7, 1]) torch.Size([16, 1])\n"
     ]
    }
   ],
   "source": [
    "for _,batch in enumerate(train_loader):\n",
    "    x_batch,y_batch= batch[0].to(device),batch[1].to(device)\n",
    "    print(x_batch.shape,y_batch.shape)\n",
    "    break"
   ]
  },
  {
   "cell_type": "code",
   "execution_count": 33,
   "metadata": {},
   "outputs": [
    {
     "data": {
      "text/plain": [
       "LSTM(\n",
       "  (lstm): LSTM(1, 4, batch_first=True)\n",
       "  (fc): Linear(in_features=4, out_features=1, bias=True)\n",
       ")"
      ]
     },
     "execution_count": 33,
     "metadata": {},
     "output_type": "execute_result"
    }
   ],
   "source": [
    "class LSTM(nn.Module):\n",
    "    def __init__(self,input_size,hidden_size,num_stacked_layers):\n",
    "        super().__init__()\n",
    "        self.hidden_size= hidden_size\n",
    "        self.num_stacked_layers= num_stacked_layers\n",
    "        \n",
    "        self.lstm= nn.LSTM(input_size,hidden_size,num_stacked_layers,\n",
    "                           batch_first=True)\n",
    "        self.fc= nn.Linear(hidden_size,1)\n",
    "        \n",
    "    def forward(self,x):\n",
    "        batch_size= x.size(0)\n",
    "        h0= torch.zeros(self.num_stacked_layers,batch_size,self.hidden_size).to(device)\n",
    "        c0= torch.zeros(self.num_stacked_layers,batch_size,self.hidden_size).to(device)\n",
    "        \n",
    "        out,_ = self.lstm(x,(h0,c0))\n",
    "        out= self.fc(out[:,-1,:])\n",
    "        return out\n",
    "    \n",
    "model= LSTM(1,4,1)\n",
    "model.to(device)\n",
    "model"
   ]
  },
  {
   "cell_type": "code",
   "execution_count": 34,
   "metadata": {},
   "outputs": [],
   "source": [
    "def train_one_epoch():\n",
    "    model.train(True)\n",
    "    print(f'Epoch: {epoch + 1}')\n",
    "    running_loss = 0.0\n",
    "\n",
    "    for batch_index, batch in enumerate(train_loader):\n",
    "        x_batch, y_batch = batch[0].to(device), batch[1].to(device)\n",
    "\n",
    "        output = model(x_batch)\n",
    "        loss = loss_function(output, y_batch)\n",
    "        running_loss += loss.item()\n",
    "\n",
    "        optimizer.zero_grad()\n",
    "        loss.backward()\n",
    "        optimizer.step()\n",
    "\n",
    "        if batch_index % 100 == 99:  # print every 100 batches\n",
    "            avg_loss_across_batches = running_loss / 100\n",
    "            print('Batch {0}, Loss: {1:.3f}'.format(batch_index+1,\n",
    "                                                    avg_loss_across_batches))\n",
    "            running_loss = 0.0\n",
    "    print()"
   ]
  },
  {
   "cell_type": "code",
   "execution_count": 35,
   "metadata": {},
   "outputs": [],
   "source": [
    "def validate_one_epoch():\n",
    "    model.train(False)\n",
    "    running_loss = 0.0\n",
    "\n",
    "    for batch_index, batch in enumerate(test_loader):\n",
    "        x_batch, y_batch = batch[0].to(device), batch[1].to(device)\n",
    "\n",
    "        with torch.no_grad():\n",
    "            output = model(x_batch)\n",
    "            loss = loss_function(output, y_batch)\n",
    "            running_loss += loss.item()\n",
    "\n",
    "    avg_loss_across_batches = running_loss / len(test_loader)\n",
    "\n",
    "    print('Val Loss: {0:.3f}'.format(avg_loss_across_batches))\n",
    "    print('***************************************************')\n",
    "    print()"
   ]
  },
  {
   "cell_type": "code",
   "execution_count": 36,
   "metadata": {},
   "outputs": [
    {
     "name": "stdout",
     "output_type": "stream",
     "text": [
      "Epoch: 1\n",
      "Batch 100, Loss: 0.304\n",
      "\n",
      "Val Loss: 0.555\n",
      "***************************************************\n",
      "\n",
      "Epoch: 2\n",
      "Batch 100, Loss: 0.052\n",
      "\n",
      "Val Loss: 0.069\n",
      "***************************************************\n",
      "\n",
      "Epoch: 3\n",
      "Batch 100, Loss: 0.004\n",
      "\n",
      "Val Loss: 0.054\n",
      "***************************************************\n",
      "\n",
      "Epoch: 4\n",
      "Batch 100, Loss: 0.004\n",
      "\n",
      "Val Loss: 0.048\n",
      "***************************************************\n",
      "\n",
      "Epoch: 5\n",
      "Batch 100, Loss: 0.003\n",
      "\n",
      "Val Loss: 0.043\n",
      "***************************************************\n",
      "\n",
      "Epoch: 6\n",
      "Batch 100, Loss: 0.003\n",
      "\n",
      "Val Loss: 0.036\n",
      "***************************************************\n",
      "\n",
      "Epoch: 7\n",
      "Batch 100, Loss: 0.002\n",
      "\n",
      "Val Loss: 0.031\n",
      "***************************************************\n",
      "\n",
      "Epoch: 8\n",
      "Batch 100, Loss: 0.002\n",
      "\n",
      "Val Loss: 0.027\n",
      "***************************************************\n",
      "\n",
      "Epoch: 9\n",
      "Batch 100, Loss: 0.002\n",
      "\n",
      "Val Loss: 0.024\n",
      "***************************************************\n",
      "\n",
      "Epoch: 10\n",
      "Batch 100, Loss: 0.001\n",
      "\n",
      "Val Loss: 0.017\n",
      "***************************************************\n",
      "\n"
     ]
    }
   ],
   "source": [
    "learning_rate = 0.001\n",
    "num_epochs = 10\n",
    "loss_function = nn.MSELoss()\n",
    "optimizer = torch.optim.Adam(model.parameters(), lr=learning_rate)\n",
    "\n",
    "for epoch in range(num_epochs):\n",
    "    train_one_epoch()\n",
    "    validate_one_epoch()"
   ]
  },
  {
   "cell_type": "code",
   "execution_count": 37,
   "metadata": {},
   "outputs": [
    {
     "data": {
      "image/png": "[encoded data removed]",
      "text/plain": [
       "<Figure size 640x480 with 1 Axes>"
      ]
     },
     "metadata": {},
     "output_type": "display_data"
    }
   ],
   "source": [
    "with torch.no_grad():\n",
    "    predicted = model(X_train.to(device)).to('cpu').numpy()\n",
    "\n",
    "plt.plot(y_train, label='Actual Close')\n",
    "plt.plot(predicted, label='Predicted Close')\n",
    "plt.xlabel('Day')\n",
    "plt.ylabel('Close')\n",
    "plt.legend()\n",
    "plt.show()"
   ]
  },
  {
   "cell_type": "code",
   "execution_count": 38,
   "metadata": {},
   "outputs": [
    {
     "data": {
      "text/plain": [
       "array([ 25.79885544,  25.9142414 ,  25.99365556, ..., 167.28427754,\n",
       "       167.40356096, 167.97461054])"
      ]
     },
     "execution_count": 38,
     "metadata": {},
     "output_type": "execute_result"
    }
   ],
   "source": [
    "train_predictions = predicted.flatten()\n",
    "\n",
    "dummies = np.zeros((X_train.shape[0], lookback+1))\n",
    "dummies[:, 0] = train_predictions\n",
    "dummies = scaler.inverse_transform(dummies)\n",
    "\n",
    "train_predictions = dc(dummies[:, 0])\n",
    "train_predictions"
   ]
  },
  {
   "cell_type": "code",
   "execution_count": 39,
   "metadata": {},
   "outputs": [
    {
     "data": {
      "text/plain": [
       "array([ 23.56249919,  23.46499973,  23.07250124, ..., 172.99000219,\n",
       "       175.4299998 , 177.29999935])"
      ]
     },
     "execution_count": 39,
     "metadata": {},
     "output_type": "execute_result"
    }
   ],
   "source": [
    "dummies = np.zeros((X_train.shape[0], lookback+1))\n",
    "dummies[:, 0] = y_train.flatten()\n",
    "dummies = scaler.inverse_transform(dummies)\n",
    "\n",
    "new_y_train = dc(dummies[:, 0])\n",
    "new_y_train"
   ]
  },
  {
   "cell_type": "code",
   "execution_count": 40,
   "metadata": {},
   "outputs": [
    {
     "data": {
      "image/png": "[encoded data removed]",
      "text/plain": [
       "<Figure size 640x480 with 1 Axes>"
      ]
     },
     "metadata": {},
     "output_type": "display_data"
    }
   ],
   "source": [
    "plt.plot(new_y_train, label='Actual Close')\n",
    "plt.plot(train_predictions, label='Predicted Close')\n",
    "plt.xlabel('Day')\n",
    "plt.ylabel('Close')\n",
    "plt.legend()\n",
    "plt.show()"
   ]
  },
  {
   "cell_type": "code",
   "execution_count": 41,
   "metadata": {},
   "outputs": [
    {
     "data": {
      "text/plain": [
       "array([168.62761679, 168.97941422, 169.83448191, 170.54144062,\n",
       "       170.71910758, 170.81390236, 170.57772107, 171.02007576,\n",
       "       171.30252443, 172.00716035, 172.25691737, 172.59701717,\n",
       "       173.21645289, 173.37955535, 173.52199863, 173.41432913,\n",
       "       173.93623923, 174.1170294 , 173.98119351, 174.44505489,\n",
       "       174.88615402, 175.2050767 , 176.22492617, 176.42406321,\n",
       "       176.4330143 , 176.59868543, 176.4647015 , 176.038554  ,\n",
       "       175.73627271, 175.80051553, 175.92753111, 176.01986185,\n",
       "       176.65477757, 176.91068161, 177.36763741, 177.28880918,\n",
       "       177.09717411, 177.1548357 , 177.32096721, 177.51325098,\n",
       "       177.38514201, 177.78398108, 178.07139444, 178.11895924,\n",
       "       177.65770838, 177.2127641 , 175.2663271 , 173.69237288,\n",
       "       172.85840382, 171.87986227, 171.19195145, 170.68397806,\n",
       "       170.66196914, 170.28801108, 169.97220638, 169.21636977,\n",
       "       168.92494384, 168.99759891, 169.29248809, 170.21541879,\n",
       "       169.72632066, 170.05617718, 170.57542444, 171.67707365,\n",
       "       172.94637148, 173.68760175, 174.41970304, 174.98218342,\n",
       "       174.06261657, 172.64242659, 171.94833737, 171.63221354,\n",
       "       170.71625118, 169.70222437, 169.35734299, 168.98761721,\n",
       "       169.48062851, 169.9145971 , 169.37940945, 168.86008371,\n",
       "       168.79166616, 168.97098627, 168.16657519, 167.3636917 ,\n",
       "       166.88239896, 166.71455153, 167.17174798, 167.06208005,\n",
       "       167.27324431, 167.71906748, 168.57404624, 169.38115154,\n",
       "       169.74745069, 170.27620882, 170.80744669, 170.74626953,\n",
       "       170.74309401, 170.38332378, 169.89956177, 169.54711564,\n",
       "       168.73333494, 168.26595799, 168.0537422 , 167.35980993,\n",
       "       166.02357505, 165.5628735 , 165.66458955, 165.80805819,\n",
       "       166.59301856, 167.77632624, 168.28537208, 169.31008685,\n",
       "       170.44064532, 171.30790241, 171.77006878, 172.85845613,\n",
       "       173.07822097, 173.83594615, 174.32227159, 174.92307794,\n",
       "       175.24843537, 175.81340071, 175.92723291, 176.19419634,\n",
       "       176.07649806, 176.02081398, 176.08142614, 175.91394491,\n",
       "       175.9243242 , 176.14905896, 175.90838905, 176.55801576,\n",
       "       176.63638362, 177.07880632, 177.559691  , 177.38803503,\n",
       "       177.63202171, 178.3184154 , 178.63114398, 178.76669737,\n",
       "       178.57799195, 178.68248069, 178.38781647, 178.24305564,\n",
       "       177.92220254, 177.64728723, 177.49796977, 177.48289781,\n",
       "       177.25022687, 175.90972832, 175.00042043, 173.97734836,\n",
       "       173.22218138, 173.57209547, 173.51500934, 173.68035612,\n",
       "       173.71719634, 173.85009213, 173.52547234, 173.23486777,\n",
       "       174.16484007, 175.10337635, 176.02291181, 176.77790615,\n",
       "       177.11429681, 177.3579853 , 177.26643405, 177.09823611,\n",
       "       176.31892053, 175.2307529 , 175.0679277 , 174.6573753 ,\n",
       "       174.75536129, 175.05141709, 175.20024279, 175.13742818,\n",
       "       175.29453534, 175.03417407, 174.55013479, 174.11037493,\n",
       "       173.76247497, 173.22214476, 172.77046231, 172.61825706,\n",
       "       172.9009673 , 172.66848992, 172.31967968, 172.42641796,\n",
       "       172.22308527, 172.01319227, 171.66118035, 170.47669035,\n",
       "       168.7792675 , 167.57323942, 166.69727712, 166.47997108,\n",
       "       166.69502234, 166.85261081, 166.53209775, 166.90212172,\n",
       "       167.03212449, 167.39603807, 168.09611735, 169.00564496,\n",
       "       167.94313784, 167.72973974, 167.20231563, 166.6535941 ,\n",
       "       167.10615021, 166.81752837, 166.28043122, 165.82046731,\n",
       "       165.71162073, 165.44415507, 165.48897333, 165.14774354,\n",
       "       165.25991735, 164.88004247, 166.37123959, 167.43478778,\n",
       "       167.27367329, 166.54979068, 165.89065311, 165.25413654,\n",
       "       164.42205083, 163.95768199, 163.79028969, 164.18507959,\n",
       "       164.63502518, 164.79663143, 165.90844021, 165.85526725,\n",
       "       165.69513104, 166.46145158, 169.06737665, 170.06111048,\n",
       "       170.95389729, 171.52724873, 172.35031011, 172.58776265,\n",
       "       173.41509816, 173.91223711, 174.66773891, 175.10199   ,\n",
       "       175.40255012, 175.80093405, 176.29555142, 176.28487916,\n",
       "       175.59615746, 175.83539917, 175.86987998])"
      ]
     },
     "execution_count": 41,
     "metadata": {},
     "output_type": "execute_result"
    }
   ],
   "source": [
    "test_predictions = model(X_test.to(device)).detach().cpu().numpy().flatten()\n",
    "\n",
    "dummies = np.zeros((X_test.shape[0], lookback+1))\n",
    "dummies[:, 0] = test_predictions\n",
    "dummies = scaler.inverse_transform(dummies)\n",
    "\n",
    "test_predictions = dc(dummies[:, 0])\n",
    "test_predictions"
   ]
  },
  {
   "cell_type": "code",
   "execution_count": 42,
   "metadata": {},
   "outputs": [
    {
     "data": {
      "text/plain": [
       "array([177.25000191, 180.08999998, 180.95000098, 179.580002  ,\n",
       "       179.20999896, 177.81999996, 180.57000054, 180.95999838,\n",
       "       183.78999905, 183.30999849, 183.94999924, 186.01000163,\n",
       "       184.91999775, 185.01000047, 183.96000186, 187.00000017,\n",
       "       186.67999979, 185.27000077, 188.0600014 , 189.25000017,\n",
       "       189.59000056, 193.97000042, 192.46000128, 191.33000258,\n",
       "       191.80999791, 190.67999921, 188.60999942, 188.08000142,\n",
       "       189.77000077, 190.53999905, 190.69000184, 193.99000044,\n",
       "       193.73000014, 195.09999912, 193.12999944, 191.94000068,\n",
       "       192.749999  , 193.6199974 , 194.49999842, 193.22000216,\n",
       "       195.83000258, 196.44999807, 195.60500101, 192.58000142,\n",
       "       191.1700024 , 181.99000219, 178.84999854, 179.80000226,\n",
       "       178.18999777, 177.96999752, 177.79000254, 179.46000187,\n",
       "       177.45000214, 176.57000112, 174.00000075, 174.4899987 ,\n",
       "       175.83999766, 177.23000189, 181.11999856, 176.37999829,\n",
       "       178.60999826, 180.1900001 , 184.12000205, 187.64999831,\n",
       "       187.86999856, 189.45999779, 189.69999807, 182.90999803,\n",
       "       177.55999966, 178.18000038, 179.36000175, 176.29999819,\n",
       "       174.20999838, 175.73999754, 175.00999931, 177.96999752,\n",
       "       179.0699988 , 175.48999987, 173.92999805, 174.78999905,\n",
       "       176.07999794, 171.95999838, 170.42999922, 170.68999952,\n",
       "       171.21000012, 173.74999784, 172.39999889, 173.66000036,\n",
       "       174.90999919, 177.49000219, 178.9899987 , 178.38999801,\n",
       "       179.80000226, 180.7100007 , 178.84999854, 178.720001  ,\n",
       "       177.1500018 , 175.83999766, 175.46000245, 172.87999945,\n",
       "       172.99999959, 173.4400001 , 171.10000261, 166.89000033,\n",
       "       168.21999926, 170.28999905, 170.76999961, 173.9699981 ,\n",
       "       177.57000228, 176.65000121, 179.22999898, 181.81999938,\n",
       "       182.889998  , 182.40999745, 186.39999947, 184.79999761,\n",
       "       187.44000068, 188.00999872, 189.7100007 , 189.69000068,\n",
       "       191.44999749, 190.63999916, 191.31000256, 189.970001  ,\n",
       "       189.79000079, 190.39999889, 189.3700003 , 189.95000098,\n",
       "       191.23999986, 189.43000037, 193.4200024 , 192.32000112,\n",
       "       194.27000077, 195.71000244, 193.18000212, 194.71000128,\n",
       "       197.96000244, 198.11      , 197.56999937, 195.88999742,\n",
       "       196.94000126, 194.83000142, 194.67999863, 193.60000261,\n",
       "       193.04999935, 193.14999947, 193.58000258, 192.52999875,\n",
       "       185.63999858, 184.24999959, 181.9100021 , 181.17999863,\n",
       "       185.55999849, 185.139998  , 186.19000184, 185.59000114,\n",
       "       185.91999891, 183.62999886, 182.68000038, 188.62999944,\n",
       "       191.56000023, 193.89000033, 195.17999921, 194.49999842,\n",
       "       194.17000065, 192.42000123, 191.72999782, 188.04000137,\n",
       "       184.40000238, 186.86      , 185.85000144, 187.68000096,\n",
       "       189.29999761, 189.41000035, 188.3200017 , 188.8499997 ,\n",
       "       187.14999772, 185.03999789, 184.14999947, 183.86000175,\n",
       "       182.31000256, 181.55999907, 182.31999996, 184.36999972,\n",
       "       182.52000019, 181.15999861, 182.6299977 , 181.41999891,\n",
       "       180.75000075, 179.6600021 , 175.10000203, 170.12000147,\n",
       "       169.12000031, 169.00000017, 170.72999957, 172.75000191,\n",
       "       173.23000247, 171.13000003, 172.99999959, 172.61999915,\n",
       "       173.72000042, 176.07999794, 178.66999833, 171.37000031,\n",
       "       172.27999875, 170.8499997 , 169.70999838, 173.31000256,\n",
       "       171.47999782, 170.02999875, 168.83999998, 169.64999831,\n",
       "       168.81999996, 169.58000084, 168.45000215, 169.66999833,\n",
       "       167.77999875, 175.04000196, 176.5500011 , 172.69000184,\n",
       "       169.38000061, 167.99999901, 167.03999789, 165.00000075,\n",
       "       165.84000173, 166.89999773, 169.02000019, 169.88999859,\n",
       "       169.30000052, 173.50000017, 170.3299991 , 169.30000052,\n",
       "       173.03000224, 183.38000119, 181.71000186, 182.40000005,\n",
       "       182.74000045, 184.56999996, 183.04999819, 186.27999933,\n",
       "       187.42999805, 189.7199981 , 189.83999824, 189.87000089,\n",
       "       191.03999963, 192.34999854, 190.89999947, 186.88000003,\n",
       "       189.9799984 , 189.99000103, 190.29000137])"
      ]
     },
     "execution_count": 42,
     "metadata": {},
     "output_type": "execute_result"
    }
   ],
   "source": [
    "dummies = np.zeros((X_test.shape[0], lookback+1))\n",
    "dummies[:, 0] = y_test.flatten()\n",
    "dummies = scaler.inverse_transform(dummies)\n",
    "\n",
    "new_y_test = dc(dummies[:, 0])\n",
    "new_y_test"
   ]
  },
  {
   "cell_type": "code",
   "execution_count": 43,
   "metadata": {},
   "outputs": [
    {
     "data": {
      "image/png": "[encoded data removed]",
      "text/plain": [
       "<Figure size 640x480 with 1 Axes>"
      ]
     },
     "metadata": {},
     "output_type": "display_data"
    }
   ],
   "source": [
    "plt.plot(new_y_test, label='Actual Close')\n",
    "plt.plot(test_predictions, label='Predicted Close')\n",
    "plt.xlabel('Day')\n",
    "plt.ylabel('Close')\n",
    "plt.legend()\n",
    "plt.show()"
   ]
  }
 ],
 "metadata": {
  "kernelspec": {
   "display_name": "time_series",
   "language": "python",
   "name": "python3"
  },
  "language_info": {
   "codemirror_mode": {
    "name": "ipython",
    "version": 3
   },
   "file_extension": ".py",
   "mimetype": "text/x-python",
   "name": "python",
   "nbconvert_exporter": "python",
   "pygments_lexer": "ipython3",
   "version": "3.11.4"
  }
 },
 "nbformat": 4,
 "nbformat_minor": 2
}
