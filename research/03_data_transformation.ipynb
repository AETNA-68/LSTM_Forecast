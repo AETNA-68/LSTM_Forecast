{
 "cells": [
  {
   "cell_type": "code",
   "execution_count": 1,
   "metadata": {},
   "outputs": [],
   "source": [
    "import os"
   ]
  },
  {
   "cell_type": "code",
   "execution_count": 2,
   "metadata": {},
   "outputs": [
    {
     "data": {
      "text/plain": [
       "'/Users/main/Desktop/LSTM_Forecast/research'"
      ]
     },
     "execution_count": 2,
     "metadata": {},
     "output_type": "execute_result"
    }
   ],
   "source": [
    "%pwd"
   ]
  },
  {
   "cell_type": "code",
   "execution_count": 3,
   "metadata": {},
   "outputs": [],
   "source": [
    "os.chdir('../')"
   ]
  },
  {
   "cell_type": "code",
   "execution_count": 4,
   "metadata": {},
   "outputs": [
    {
     "data": {
      "text/plain": [
       "'/Users/main/Desktop/LSTM_Forecast'"
      ]
     },
     "execution_count": 4,
     "metadata": {},
     "output_type": "execute_result"
    }
   ],
   "source": [
    "%pwd"
   ]
  },
  {
   "cell_type": "code",
   "execution_count": 5,
   "metadata": {},
   "outputs": [],
   "source": [
    "from dataclasses import dataclass\n",
    "from pathlib import Path\n",
    "\n",
    "@dataclass(frozen=True)\n",
    "class DataTransformationConfig:\n",
    "    root_dir: Path\n",
    "    data_path: Path"
   ]
  },
  {
   "cell_type": "code",
   "execution_count": 6,
   "metadata": {},
   "outputs": [],
   "source": [
    "from TimeSeriesForecast.constants import *\n",
    "from TimeSeriesForecast.config.configuration import read_yaml,create_directories"
   ]
  },
  {
   "cell_type": "code",
   "execution_count": 7,
   "metadata": {},
   "outputs": [],
   "source": [
    "class ConfigurationManager:\n",
    "    def __init__(\n",
    "        self,\n",
    "        config_filepath = CONFIG_FILE_PATH,\n",
    "        params_filepath = PARAMS_FILE_PATH,\n",
    "        schema_filepath = SCHEMA_FILE_PATH):\n",
    "\n",
    "        self.config = read_yaml(config_filepath)\n",
    "        self.params = read_yaml(params_filepath)\n",
    "        self.schema = read_yaml(schema_filepath)\n",
    "\n",
    "        create_directories([self.config.artifacts_root])\n",
    "\n",
    "    def get_data_transformation_config(self)-> DataTransformationConfig:\n",
    "        config= self.config.data_transformation\n",
    "        \n",
    "        create_directories([config.root_dir])\n",
    "        \n",
    "        data_transformation_config= DataTransformationConfig(\n",
    "            root_dir= config.root_dir,\n",
    "            data_path= config.data_path,\n",
    "        )\n",
    "        return data_transformation_config\n",
    "        "
   ]
  },
  {
   "cell_type": "code",
   "execution_count": 8,
   "metadata": {},
   "outputs": [],
   "source": [
    "import pandas as pd"
   ]
  },
  {
   "cell_type": "code",
   "execution_count": 9,
   "metadata": {},
   "outputs": [
    {
     "data": {
      "text/plain": [
       "'/Users/main/Desktop/LSTM_Forecast'"
      ]
     },
     "execution_count": 9,
     "metadata": {},
     "output_type": "execute_result"
    }
   ],
   "source": [
    "%pwd"
   ]
  },
  {
   "cell_type": "code",
   "execution_count": 10,
   "metadata": {},
   "outputs": [],
   "source": [
    "from notebooks.src.feature import TimeConfig\n",
    "from notebooks.src.functions_torch import TransformLag\n"
   ]
  },
  {
   "cell_type": "code",
   "execution_count": 11,
   "metadata": {},
   "outputs": [],
   "source": [
    "def data_transformation_pipeline(path: str , columns: list[str])->pd.DataFrame:\n",
    " \n",
    "    try:\n",
    "        if not os.path.exists(path):\n",
    "            raise FileNotFoundError(f\"File not found: {path}\")\n",
    "        _,file_extension= os.path.splitext(path)\n",
    "\n",
    "        if file_extension == '.csv':\n",
    "            df = pd.read_csv(path,sep=',',encoding='utf-8')\n",
    "        elif file_extension in ['.xlsx','.xls']:\n",
    "            df = pd.read_excel(path)\n",
    "        elif file_extension == '.json':\n",
    "            df = pd.read_json(path)\n",
    "        else:\n",
    "            raise ValueError(f\"Unsupported File Extension{file_extension}\")\n",
    "\n",
    "    except FileNotFoundError:\n",
    "        print(f\"File not found:{path}\")\n",
    "    except pd.errors.EmptyDataError:\n",
    "        print(f\"No data: The file at the path {path} is empty\")\n",
    "    except pd.errors.ParserError:\n",
    "        print(f\"Parsing error: The data at {path} could not be parsed\")\n",
    "    except IOError as e:\n",
    "        print(f\"IO eror: {e}\")\n",
    "    except ValueError as e:\n",
    "        print(f\"Value error: {e}\")\n",
    "        return pd.DataFrame()\n",
    "\n",
    "    if 'Date' not in columns and not df.empty:\n",
    "        columns.append('Date')\n",
    "        missing_columns= [col for col in columns if col not in df.columns]\n",
    "        if missing_columns:\n",
    "            raise ValueError(f\"Missing columns in the dataframe: {missing_columns}\")\n",
    "\n",
    "        df = df[columns].copy()\n",
    "\n",
    "        df['Date'] = pd.to_datetime(df['Date'])\n",
    "\n",
    "        df.sort_values(by='Date', inplace=True)\n",
    "\n",
    "        df.reset_index(inplace=True, drop=True)\n",
    "\n",
    "        df.set_index('Date', inplace=True)\n",
    "\n",
    "        for column in columns:\n",
    "            if column != 'Date' and df[column].dtype == 'object':\n",
    "                df[column] = df[column].str.replace('$', '', regex=False).astype(float)\n",
    "        if 'Close/Last' in columns:\n",
    "            df.rename(columns={'Close/Last':'Value'},inplace=True)\n",
    "\n",
    "        return df"
   ]
  },
  {
   "cell_type": "code",
   "execution_count": 12,
   "metadata": {},
   "outputs": [
    {
     "data": {
      "text/html": [
       "<div>\n",
       "<style scoped>\n",
       "    .dataframe tbody tr th:only-of-type {\n",
       "        vertical-align: middle;\n",
       "    }\n",
       "\n",
       "    .dataframe tbody tr th {\n",
       "        vertical-align: top;\n",
       "    }\n",
       "\n",
       "    .dataframe thead th {\n",
       "        text-align: right;\n",
       "    }\n",
       "</style>\n",
       "<table border=\"1\" class=\"dataframe\">\n",
       "  <thead>\n",
       "    <tr style=\"text-align: right;\">\n",
       "      <th></th>\n",
       "      <th>Value</th>\n",
       "    </tr>\n",
       "    <tr>\n",
       "      <th>Date</th>\n",
       "      <th></th>\n",
       "    </tr>\n",
       "  </thead>\n",
       "  <tbody>\n",
       "    <tr>\n",
       "      <th>2014-05-30</th>\n",
       "      <td>22.6072</td>\n",
       "    </tr>\n",
       "    <tr>\n",
       "      <th>2014-06-02</th>\n",
       "      <td>22.4518</td>\n",
       "    </tr>\n",
       "    <tr>\n",
       "      <th>2014-06-03</th>\n",
       "      <td>22.7693</td>\n",
       "    </tr>\n",
       "    <tr>\n",
       "      <th>2014-06-04</th>\n",
       "      <td>23.0293</td>\n",
       "    </tr>\n",
       "    <tr>\n",
       "      <th>2014-06-05</th>\n",
       "      <td>23.1197</td>\n",
       "    </tr>\n",
       "    <tr>\n",
       "      <th>...</th>\n",
       "      <td>...</td>\n",
       "    </tr>\n",
       "    <tr>\n",
       "      <th>2024-05-22</th>\n",
       "      <td>190.9000</td>\n",
       "    </tr>\n",
       "    <tr>\n",
       "      <th>2024-05-23</th>\n",
       "      <td>186.8800</td>\n",
       "    </tr>\n",
       "    <tr>\n",
       "      <th>2024-05-24</th>\n",
       "      <td>189.9800</td>\n",
       "    </tr>\n",
       "    <tr>\n",
       "      <th>2024-05-28</th>\n",
       "      <td>189.9900</td>\n",
       "    </tr>\n",
       "    <tr>\n",
       "      <th>2024-05-29</th>\n",
       "      <td>190.2900</td>\n",
       "    </tr>\n",
       "  </tbody>\n",
       "</table>\n",
       "<p>2517 rows × 1 columns</p>\n",
       "</div>"
      ],
      "text/plain": [
       "               Value\n",
       "Date                \n",
       "2014-05-30   22.6072\n",
       "2014-06-02   22.4518\n",
       "2014-06-03   22.7693\n",
       "2014-06-04   23.0293\n",
       "2014-06-05   23.1197\n",
       "...              ...\n",
       "2024-05-22  190.9000\n",
       "2024-05-23  186.8800\n",
       "2024-05-24  189.9800\n",
       "2024-05-28  189.9900\n",
       "2024-05-29  190.2900\n",
       "\n",
       "[2517 rows x 1 columns]"
      ]
     },
     "execution_count": 12,
     "metadata": {},
     "output_type": "execute_result"
    }
   ],
   "source": [
    "new_data=data_transformation_pipeline(path='artifacts/data_ingestion/apple.csv',columns=['Close/Last'])\n",
    "new_data"
   ]
  },
  {
   "cell_type": "code",
   "execution_count": 13,
   "metadata": {},
   "outputs": [
    {
     "name": "stdout",
     "output_type": "stream",
     "text": [
      "              Value\n",
      "Date               \n",
      "2014-05-30  22.6072\n",
      "2014-06-02  22.4518\n",
      "2014-06-03  22.7693\n",
      "2014-06-04  23.0293\n",
      "2014-06-05  23.1197\n"
     ]
    }
   ],
   "source": [
    "def transformation_data(path:Path)->pd.DataFrame:  \n",
    "    df= TimeConfig.process_chain(path='artifacts/data_ingestion/apple.csv',columns=['Close/Last'])\n",
    "    print(df.head())\n",
    "transformation_data('artifacts/data_ingestion/apple.csv')"
   ]
  },
  {
   "cell_type": "code",
   "execution_count": null,
   "metadata": {},
   "outputs": [],
   "source": [
    "def data_transformation_pipeline(path: str , columns: list[str])->pd.DataFrame:\n",
    " \n",
    "    try:\n",
    "        if not os.path.exists(path):\n",
    "            raise FileNotFoundError(f\"File not found: {path}\")\n",
    "        _,file_extension= os.path.splitext(path)\n",
    "\n",
    "        if file_extension == '.csv':\n",
    "            df = pd.read_csv(path,sep=',',encoding='utf-8')\n",
    "        elif file_extension in ['.xlsx','.xls']:\n",
    "            df = pd.read_excel(path)\n",
    "        elif file_extension == '.json':\n",
    "            df = pd.read_json(path)\n",
    "        else:\n",
    "            raise ValueError(f\"Unsupported File Extension{file_extension}\")\n",
    "        return df\n",
    "\n",
    "    except FileNotFoundError:\n",
    "        print(f\"File not found:{path}\")\n",
    "    except pd.errors.EmptyDataError:\n",
    "        print(f\"No data: The file at the path {path} is empty\")\n",
    "    except pd.errors.ParserError:\n",
    "        print(f\"Parsing error: The data at {path} could not be parsed\")\n",
    "    except IOError as e:\n",
    "        print(f\"IO eror: {e}\")\n",
    "    except ValueError as e:\n",
    "        print(f\"Value error: {e}\")\n",
    "        return pd.DataFrame()\n",
    "\n",
    "\n",
    "    if 'Date' not in columns:\n",
    "        columns.append('Date')\n",
    "    elif not df.empty:\n",
    "\n",
    "        missing_columns= [col for col in columns if col not in df.columns]\n",
    "        if missing_columns:\n",
    "            raise ValueError(f\"Missing columns in the dataframe: {missing_columns}\")\n",
    "\n",
    "        df = df[columns].copy()\n",
    "\n",
    "        df['Date'] = pd.to_datetime(df['Date'])\n",
    "\n",
    "        df.sort_values(by='Date', inplace=True)\n",
    "\n",
    "        df.reset_index(inplace=True, drop=True)\n",
    "\n",
    "        df.set_index('Date', inplace=True)\n",
    "\n",
    "        for column in columns:\n",
    "            if column != 'Date' and df[column].dtype == 'object':\n",
    "                df[column] = df[column].str.replace('$', '', regex=False).astype(float)\n",
    "        if 'Close/Last' in columns:\n",
    "            df.rename(columns={'Close/Last':'Value'},inplace=True)\n",
    "\n",
    "        return df"
   ]
  },
  {
   "cell_type": "code",
   "execution_count": 13,
   "metadata": {},
   "outputs": [
    {
     "name": "stdout",
     "output_type": "stream",
     "text": [
      "[2024-07-19 00:33:00,712:INFO:common:yaml file: config/config.yaml loaded successfully]\n",
      "[2024-07-19 00:33:00,716:INFO:common:yaml file: params.yaml loaded successfully]\n",
      "[2024-07-19 00:33:00,717:INFO:common:yaml file: schema.yaml loaded successfully]\n",
      "[2024-07-19 00:33:00,719:INFO:common:created directory at: artifacts]\n",
      "[2024-07-19 00:33:00,720:INFO:common:created directory at: artifacts/data_transformation]\n"
     ]
    }
   ],
   "source": [
    "conf= ConfigurationManager()\n",
    "config=conf.get_data_transformation_config()"
   ]
  }
 ],
 "metadata": {
  "kernelspec": {
   "display_name": "time",
   "language": "python",
   "name": "python3"
  },
  "language_info": {
   "codemirror_mode": {
    "name": "ipython",
    "version": 3
   },
   "file_extension": ".py",
   "mimetype": "text/x-python",
   "name": "python",
   "nbconvert_exporter": "python",
   "pygments_lexer": "ipython3",
   "version": "3.11.4"
  }
 },
 "nbformat": 4,
 "nbformat_minor": 2
}
