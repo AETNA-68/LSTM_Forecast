{
 "cells": [
  {
   "cell_type": "code",
   "execution_count": 1,
   "metadata": {},
   "outputs": [],
   "source": [
    "import os\n",
    "import pandas as pd"
   ]
  },
  {
   "cell_type": "code",
   "execution_count": 2,
   "metadata": {},
   "outputs": [
    {
     "data": {
      "text/plain": [
       "'/Users/main/Desktop/LSTM_Forecast/research'"
      ]
     },
     "execution_count": 2,
     "metadata": {},
     "output_type": "execute_result"
    }
   ],
   "source": [
    "%pwd"
   ]
  },
  {
   "cell_type": "code",
   "execution_count": 3,
   "metadata": {},
   "outputs": [],
   "source": [
    "os.chdir('../')"
   ]
  },
  {
   "cell_type": "code",
   "execution_count": 4,
   "metadata": {},
   "outputs": [
    {
     "data": {
      "text/plain": [
       "'/Users/main/Desktop/LSTM_Forecast'"
      ]
     },
     "execution_count": 4,
     "metadata": {},
     "output_type": "execute_result"
    }
   ],
   "source": [
    "%pwd"
   ]
  },
  {
   "cell_type": "code",
   "execution_count": 5,
   "metadata": {},
   "outputs": [],
   "source": [
    "from dataclasses import dataclass\n",
    "from pathlib import Path\n",
    "\n",
    "@dataclass(frozen=True)\n",
    "class DataTransformationConfig:\n",
    "    root_dir: Path\n",
    "    data_path: Path"
   ]
  },
  {
   "cell_type": "code",
   "execution_count": 6,
   "metadata": {},
   "outputs": [],
   "source": [
    "from TimeSeriesForecast.constants import *\n",
    "from TimeSeriesForecast.config.configuration import read_yaml,create_directories"
   ]
  },
  {
   "cell_type": "code",
   "execution_count": 7,
   "metadata": {},
   "outputs": [],
   "source": [
    "class ConfigurationManager:\n",
    "    def __init__(\n",
    "        self,\n",
    "        config_filepath = CONFIG_FILE_PATH,\n",
    "        params_filepath = PARAMS_FILE_PATH,\n",
    "        schema_filepath = SCHEMA_FILE_PATH):\n",
    "\n",
    "        self.config = read_yaml(config_filepath)\n",
    "        self.params = read_yaml(params_filepath)\n",
    "        self.schema = read_yaml(schema_filepath)\n",
    "\n",
    "        create_directories([self.config.artifacts_root])\n",
    "\n",
    "    def get_data_transformation_config(self)-> DataTransformationConfig:\n",
    "        config= self.config.data_transformation\n",
    "        \n",
    "        create_directories([config.root_dir])\n",
    "\n",
    "        data_transformation_config= DataTransformationConfig(\n",
    "            root_dir= config.root_dir,\n",
    "            data_path= config.data_path,\n",
    "        )\n",
    "        return data_transformation_config\n",
    "        "
   ]
  },
  {
   "cell_type": "code",
   "execution_count": 8,
   "metadata": {},
   "outputs": [],
   "source": [
    "from sklearn.preprocessing import MinMaxScaler\n",
    "from copy import deepcopy as dc\n",
    "import numpy as np\n",
    "import torch\n",
    "from TimeSeriesForecast import logger\n",
    "\n",
    "\n",
    "class DataTransformation:\n",
    "    def __init__(self,config: DataTransformationConfig):\n",
    "        self.config = config\n",
    "\n",
    "    def read_and_prepare_data(self):\n",
    "        try:\n",
    "            df= pd.read_csv(self.config.data_path)\n",
    "            df['Date'] = pd.to_datetime(df['Date'])\n",
    "            df.sort_values(by='Date', inplace=True)\n",
    "            df.reset_index(inplace=True, drop=True)\n",
    "            df.set_index('Date', inplace=True)\n",
    "            return df\n",
    "        except Exception as e:\n",
    "            raise e\n",
    "\n",
    "    def rename_clean_data(self,df):\n",
    "        for column in df.columns:\n",
    "            if column != 'Date' and df[column].dtype == 'object':\n",
    "                df[column] = df[column].str.replace('$', '', regex=False).astype(float)\n",
    "                \n",
    "        if 'Close/Last' in df.columns:\n",
    "            df.rename(columns={'Close/Last':'Value'},inplace=True)       \n",
    "        return df\n",
    "\n",
    "    def loc_data(self,df):\n",
    "        df= df[['Value']]\n",
    "        df= df.loc['2023':'2024'].copy()\n",
    "        return df\n",
    "\n",
    "    def lag_transform_data(self,df,n_steps):\n",
    "        try:\n",
    "            for i in range(1,n_steps+1):\n",
    "                df[f'Value (t-{i})']= df.iloc[:,0].shift(i)\n",
    "\n",
    "            df.dropna(inplace=True)\n",
    "            df=df.asfreq('D')\n",
    "            df.ffill(inplace=True)\n",
    "            \n",
    "            split_index= int(len(df) * 0.90)\n",
    "            train= df[:split_index]\n",
    "            test= df[split_index:]\n",
    "            train.to_csv(os.path.join(self.config.root_dir, \"train.csv\"),index = False)\n",
    "            test.to_csv(os.path.join(self.config.root_dir, \"test.csv\"),index = False)\n",
    "            logger.info(\"Splitted data into train and test\")\n",
    "            logger.info(f\"Train data shape: {train.shape}\")\n",
    "            logger.info(f\"Test data shape: {test.shape}\")\n",
    "        except Exception as e:\n",
    "            raise e"
   ]
  },
  {
   "cell_type": "code",
   "execution_count": 9,
   "metadata": {},
   "outputs": [
    {
     "name": "stdout",
     "output_type": "stream",
     "text": [
      "[2024-07-24 12:32:45,525:INFO:common:yaml file: config/config.yaml loaded successfully]\n",
      "[2024-07-24 12:32:45,527:INFO:common:yaml file: params.yaml loaded successfully]\n",
      "[2024-07-24 12:32:45,529:INFO:common:yaml file: schema.yaml loaded successfully]\n",
      "[2024-07-24 12:32:45,530:INFO:common:created directory at: artifacts]\n",
      "[2024-07-24 12:32:45,531:INFO:common:created directory at: artifacts/data_transformation]\n",
      "[2024-07-24 12:32:45,562:INFO:662788182:Splitted data into train and test]\n",
      "[2024-07-24 12:32:45,562:INFO:662788182:Train data shape: (453, 8)]\n",
      "[2024-07-24 12:32:45,563:INFO:662788182:Test data shape: (51, 8)]\n"
     ]
    }
   ],
   "source": [
    "try:\n",
    "    config = ConfigurationManager()\n",
    "    data_transformation_config = config.get_data_transformation_config()\n",
    "    data_transformation = DataTransformation(config=data_transformation_config)\n",
    "    df= data_transformation.read_and_prepare_data()\n",
    "    df= data_transformation.rename_clean_data(df)\n",
    "    df= data_transformation.loc_data(df)\n",
    "    data_transformation.lag_transform_data(df,n_steps=7)\n",
    "except Exception as e:\n",
    "    raise e"
   ]
  },
  {
   "cell_type": "code",
   "execution_count": null,
   "metadata": {},
   "outputs": [],
   "source": []
  },
  {
   "cell_type": "code",
   "execution_count": null,
   "metadata": {},
   "outputs": [],
   "source": [
    "\n",
    "# data_array= df.to_numpy()\n",
    "# scaler= MinMaxScaler(feature_range=(-1,1))\n",
    "# transformed= scaler.fit_transform(data_array)\n",
    "\n",
    "# X= transformed[:,1:]\n",
    "# y= transformed[:,0]\n",
    "\n",
    "# X= dc(np.flip(X,axis=1))\n",
    "# split_index= int(len(X) * 0.90)\n",
    "# X_train= X[:split_index]\n",
    "# X_test= X[split_index:]\n",
    "# y_train= y[:split_index]\n",
    "# y_test= y[split_index:]\n",
    "# X_train= X_train.reshape((-1,7,1))\n",
    "# X_test= X_test.reshape((-1,7,1))\n",
    "# y_train= y_train.reshape((-1,1))\n",
    "# y_test= y_test.reshape((-1,1))\n",
    "# X_train= torch.tensor(X_train).float()\n",
    "# X_test= torch.tensor(X_test).float()\n",
    "# y_train= torch.tensor(y_train).float()\n",
    "# y_test= torch.tensor(y_test).float()\n",
    "# except Exception as e:\n",
    "# raise e"
   ]
  }
 ],
 "metadata": {
  "kernelspec": {
   "display_name": "time",
   "language": "python",
   "name": "python3"
  },
  "language_info": {
   "codemirror_mode": {
    "name": "ipython",
    "version": 3
   },
   "file_extension": ".py",
   "mimetype": "text/x-python",
   "name": "python",
   "nbconvert_exporter": "python",
   "pygments_lexer": "ipython3",
   "version": "3.11.4"
  }
 },
 "nbformat": 4,
 "nbformat_minor": 2
}
