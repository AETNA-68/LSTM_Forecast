{
 "cells": [
  {
   "cell_type": "code",
   "execution_count": 1,
   "metadata": {},
   "outputs": [],
   "source": [
    "import os"
   ]
  },
  {
   "cell_type": "code",
   "execution_count": 2,
   "metadata": {},
   "outputs": [
    {
     "data": {
      "text/plain": [
       "'/Users/main/Desktop/LSTM_Forecast/research'"
      ]
     },
     "execution_count": 2,
     "metadata": {},
     "output_type": "execute_result"
    }
   ],
   "source": [
    "%pwd"
   ]
  },
  {
   "cell_type": "code",
   "execution_count": 3,
   "metadata": {},
   "outputs": [],
   "source": [
    "os.chdir('../')"
   ]
  },
  {
   "cell_type": "code",
   "execution_count": 4,
   "metadata": {},
   "outputs": [
    {
     "data": {
      "text/plain": [
       "'/Users/main/Desktop/LSTM_Forecast'"
      ]
     },
     "execution_count": 4,
     "metadata": {},
     "output_type": "execute_result"
    }
   ],
   "source": [
    "%pwd"
   ]
  },
  {
   "cell_type": "code",
   "execution_count": 11,
   "metadata": {},
   "outputs": [],
   "source": [
    "import pandas as pd\n",
    "import numpy as np\n",
    "from TimeSeriesForecast import logger\n",
    "from TimeSeriesForecast.utils.common import read_yaml,create_directories\n",
    "from TimeSeriesForecast.constants import *\n",
    "from dataclasses import dataclass\n",
    "from pathlib import Path\n",
    "import torch\n",
    "from notebooks.src.functions_torch import TimeSeries\n",
    "from notebooks.src.functions_torch import LSTM\n",
    "from notebooks.src.functions_torch import set_seed\n",
    "from torch.utils.data import Dataset\n",
    "from torch.utils.data import DataLoader"
   ]
  },
  {
   "cell_type": "code",
   "execution_count": 8,
   "metadata": {},
   "outputs": [],
   "source": [
    "@dataclass(frozen=True)\n",
    "class ModelTrainerConfig:\n",
    "    root_dir: Path\n",
    "    data_path: Path\n",
    "    save_path: Path"
   ]
  },
  {
   "cell_type": "code",
   "execution_count": 10,
   "metadata": {},
   "outputs": [],
   "source": [
    "class ConfigurationManager:\n",
    "    def __init__(self,\n",
    "                 config_filepath= CONFIG_FILE_PATH,\n",
    "                 params_filepath= PARAMS_FILE_PATH,\n",
    "                 schema_filepath= SCHEMA_FILE_PATH):\n",
    "        \n",
    "        self.config= read_yaml(config_filepath)\n",
    "        self.params= read_yaml(params_filepath)\n",
    "        self.schema= read_yaml(schema_filepath)\n",
    "        \n",
    "        create_directories([self.config.artifacts_root])\n",
    "        \n",
    "    def model_trainer_config(self)->ModelTrainerConfig:\n",
    "        config= self.config.model_trainer\n",
    "        \n",
    "        create_directories([config.root_dir])\n",
    "        \n",
    "        model_trainer_config= ModelTrainerConfig(\n",
    "                                                root_dir= self.root_dir,\n",
    "                                                data_path= self.data_path,\n",
    "                                                save_path= self.data_path\n",
    "                                                )\n",
    "        return model_trainer_config"
   ]
  },
  {
   "cell_type": "code",
   "execution_count": null,
   "metadata": {},
   "outputs": [],
   "source": [
    "\n",
    "class ModelTrainer:\n",
    "    def __init__(self,config:ModelTrainerConfig):\n",
    "        self.config= config\n",
    "        self.tensor= None\n",
    "        self.X_train= None\n",
    "        self.X_test= None\n",
    "        self.y_train= None\n",
    "        self.y_test= None\n",
    "        \n",
    "    def tensor_loader(self,seed:42):\n",
    "        self.seed=seed\n",
    "        torch.manual_seed(self.seed)\n",
    "        torch.cuda.manual_seed(self.seed)\n",
    "        np.random.seed(self.seed)\n",
    "        try:\n",
    "            self.tensor= torch.load(self.config.data_path)\n",
    "            self.X_train,self.X_test,self.y_train,self.y_test = self.tensor['X_train'],self.tensor['X_test'],\\\n",
    "                                                                self.tensor['y_train'],self.tensor['y_test']\n",
    "            return self\n",
    "        except Exception as e:\n",
    "            raise Exception(f'Problem loading the tensors: {e}')\n",
    "    def time_series_dataset(self):\n",
    "        batch_size=16\n",
    "        try:\n",
    "            self.train_dataset= TimeSeries(self.X_train,self.y_train)\n",
    "            self.test_dataset= TimeSeries(self.X_test,self.y_test)\n",
    "            \n",
    "            self.train_loader= DataLoader(self.train_dataset,batch_size=batch_size,shuffle=True)\n",
    "            self.test_loader= DataLoader(self.test_dataset,batch_size=batch_size,shuffle=True)\n",
    "        except Exception as e:\n",
    "            raise Exception(f'Problem the class modules {e}')\n",
    "        return self\n",
    "    \n",
    "\n",
    "    \n",
    "    \n",
    "                                                            \n",
    "        "
   ]
  }
 ],
 "metadata": {
  "kernelspec": {
   "display_name": "time",
   "language": "python",
   "name": "python3"
  },
  "language_info": {
   "codemirror_mode": {
    "name": "ipython",
    "version": 3
   },
   "file_extension": ".py",
   "mimetype": "text/x-python",
   "name": "python",
   "nbconvert_exporter": "python",
   "pygments_lexer": "ipython3",
   "version": "3.11.4"
  }
 },
 "nbformat": 4,
 "nbformat_minor": 2
}
