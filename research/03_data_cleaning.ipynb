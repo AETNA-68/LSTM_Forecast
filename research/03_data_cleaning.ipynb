{
 "cells": [
  {
   "cell_type": "code",
   "execution_count": 3,
   "metadata": {},
   "outputs": [],
   "source": [
    "import os\n",
    "import pandas as pd"
   ]
  },
  {
   "cell_type": "code",
   "execution_count": 4,
   "metadata": {},
   "outputs": [
    {
     "data": {
      "text/plain": [
       "'/Users/main/Desktop/LSTM_Forecast/research'"
      ]
     },
     "execution_count": 4,
     "metadata": {},
     "output_type": "execute_result"
    }
   ],
   "source": [
    "%pwd"
   ]
  },
  {
   "cell_type": "code",
   "execution_count": 5,
   "metadata": {},
   "outputs": [],
   "source": [
    "os.chdir('../')"
   ]
  },
  {
   "cell_type": "code",
   "execution_count": 6,
   "metadata": {},
   "outputs": [
    {
     "data": {
      "text/plain": [
       "'/Users/main/Desktop/LSTM_Forecast'"
      ]
     },
     "execution_count": 6,
     "metadata": {},
     "output_type": "execute_result"
    }
   ],
   "source": [
    "%pwd"
   ]
  },
  {
   "cell_type": "code",
   "execution_count": 7,
   "metadata": {},
   "outputs": [],
   "source": [
    "from dataclasses import dataclass\n",
    "from pathlib import Path\n",
    "\n",
    "@dataclass(frozen=True)\n",
    "class DataCleaningConfig:\n",
    "    root_dir: Path\n",
    "    data_path: Path"
   ]
  },
  {
   "cell_type": "code",
   "execution_count": null,
   "metadata": {},
   "outputs": [],
   "source": []
  },
  {
   "cell_type": "code",
   "execution_count": 8,
   "metadata": {},
   "outputs": [],
   "source": [
    "from TimeSeriesForecast.constants import *\n",
    "from TimeSeriesForecast.utils.common import read_yaml,create_directories\n"
   ]
  },
  {
   "cell_type": "code",
   "execution_count": 9,
   "metadata": {},
   "outputs": [],
   "source": [
    "class ConfigurationManager:\n",
    "    def __init__(\n",
    "        self,\n",
    "        config_filepath= CONFIG_FILE_PATH,\n",
    "        params_filepath= PARAMS_FILE_PATH,\n",
    "        schema_filepath= SCHEMA_FILE_PATH):\n",
    "        \n",
    "        self.config= read_yaml(config_filepath)\n",
    "        self.params= read_yaml(params_filepath)\n",
    "        self.schema= read_yaml(schema_filepath)\n",
    "        \n",
    "        create_directories([self.config.artifacts_root])\n",
    "\n",
    "    def get_data_transformation_config(self)->DataCleaningConfig:\n",
    "        config= self.config.data_transformation\n",
    "        \n",
    "        create_directories([config.root_dir])\n",
    "        \n",
    "        data_transformation_config= DataCleaningConfig(\n",
    "            root_dir= config.root_dir,\n",
    "            \n",
    "            data_path= config.data_path)\n",
    "\n",
    "        return data_transformation_config"
   ]
  },
  {
   "cell_type": "code",
   "execution_count": 10,
   "metadata": {},
   "outputs": [],
   "source": [
    "from sklearn.preprocessing import MinMaxScaler\n",
    "from copy import deepcopy as dc\n",
    "import numpy as np\n",
    "from TimeSeriesForecast import logger"
   ]
  },
  {
   "cell_type": "code",
   "execution_count": null,
   "metadata": {},
   "outputs": [],
   "source": [
    "class DataCleaning:\n",
    "    def __init__(self,config: DataCleaningConfig):\n",
    "        self.config= config\n",
    "    def read_and_prepare_data(self):\n",
    "        try:\n",
    "            df= pd.read_csv(self.config.data_path)\n",
    "            df['Date']= pd.to_datetime(df['Date'])\n",
    "            df.sort_values(by='Date',inplace=True)\n",
    "            df.sort_index(inplace=True,drop=True)\n",
    "            df.set_index('Date',inplace=True)\n",
    "            return df\n",
    "        except Exception as e:\n",
    "            raise e\n",
    "    \n",
    "    def rename_clean_data(self,df):\n",
    "        for column in df.column:\n",
    "            if column != 'Date' and df[column].dtype == 'object':\n",
    "                df[column]= df[column].str.replace('$','',regex=False).astype(float)\n",
    "            elif \"Close/last\" in df.columns:\n",
    "                df.rename(columns={'Close/Last':'Value'},inplace=True)\n",
    "            return df\n",
    "    def loc_data(self,df):\n",
    "        df= df[['Value']]\n",
    "        df= df.loc['2023':'2023'].copy()\n",
    "        return df\n",
    "    def lag_transform_data(self,df,n_steps):\n",
    "        try:\n",
    "            for i in range(1,n_steps+1):\n",
    "                df[f'Value (t-{i})']= df.iloc[:,0].shift(i)\n",
    "            \n",
    "            df.dropna(inplace=True)\n",
    "            df= df.asfreq('D')\n",
    "            df.ffill(inplace=True)\n",
    "            \n",
    "            split_index= int(len(df*0.90))\n",
    "            train= df[:split_index]\n",
    "            test= df[split_index:]\n",
    "            train.to_csv(os.path.join(self.config.root_dir,'train.csv',index=False))\n",
    "            test.to_csv(os.path.join(self.config.root_dir,'test.csv',index=False))\n",
    "            logger.info('Train and test splitted')\n",
    "            logger.info(f'Train data shape: {train.shape}')\n",
    "            logger.info(f'Test data shape: {test.shape}')\n",
    "        except Exception as e:\n",
    "            raise e\n",
    "\n",
    "try:\n",
    "    config= ConfigurationManager()\n",
    "    data_transformation_config= config.get_data_transformation_config()\n",
    "    data_transformation= DataCleaning(config=data_transformation_config)\n",
    "    df= data_transformation.read_and_prepare_data()\n",
    "    df= data_transformation.rename_clean_data(df)\n",
    "    df= data_transformation.loc_data(df)\n",
    "    df= data_transformation.lag_transform_data(df,n_steps=7)\n",
    "except Exception as e:\n",
    "    raise e"
   ]
  }
 ],
 "metadata": {
  "kernelspec": {
   "display_name": "time",
   "language": "python",
   "name": "python3"
  },
  "language_info": {
   "codemirror_mode": {
    "name": "ipython",
    "version": 3
   },
   "file_extension": ".py",
   "mimetype": "text/x-python",
   "name": "python",
   "nbconvert_exporter": "python",
   "pygments_lexer": "ipython3",
   "version": "3.11.4"
  }
 },
 "nbformat": 4,
 "nbformat_minor": 2
}
